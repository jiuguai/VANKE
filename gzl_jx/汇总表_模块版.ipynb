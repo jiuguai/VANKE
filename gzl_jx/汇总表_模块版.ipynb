{
 "cells": [
  {
   "cell_type": "code",
   "execution_count": 100,
   "metadata": {},
   "outputs": [],
   "source": [
    "import numpy as np\n",
    "import pandas as pd\n",
    "import os\n",
    "import datetime\n",
    "import warnings\n",
    "import time\n",
    "# 遍历所有文件\n",
    "\n",
    "warnings.filterwarnings('ignore') \n",
    "CURRENT_DATE = pd.to_datetime(datetime.date.today())\n",
    "from tool import *"
   ]
  },
  {
   "cell_type": "code",
   "execution_count": null,
   "metadata": {},
   "outputs": [],
   "source": []
  },
  {
   "cell_type": "code",
   "execution_count": 101,
   "metadata": {},
   "outputs": [],
   "source": [
    "\n",
    "source_t = r\"C:\\Users\\vkad\\Desktop\\5-6\\243.xlsx\"\n",
    "path = r\"C:\\Users\\vkad\\Desktop\\5-6\\t\"\n",
    "save_dir = r'C:\\Users\\vkad\\Desktop\\result'"
   ]
  },
  {
   "cell_type": "code",
   "execution_count": 3,
   "metadata": {},
   "outputs": [
    {
     "name": "stdout",
     "output_type": "stream",
     "text": [
      "如果直接回车日期为当日\n",
      "请输入日期->\n"
     ]
    }
   ],
   "source": [
    "while True:\n",
    "    print('如果直接回车日期为当日')\n",
    "    in_today = input('请输入日期->').strip()\n",
    "    if in_today:\n",
    "        try:\n",
    "            today = pd.to_datetime(in_today)\n",
    "            break\n",
    "        except:\n",
    "            print('请输入正确的日期格式:')\n",
    "    else:\n",
    "        today = CURRENT_DATE\n",
    "        break"
   ]
  },
  {
   "cell_type": "code",
   "execution_count": 6,
   "metadata": {},
   "outputs": [],
   "source": [
    "df_yj = pd.read_excel(source_t)"
   ]
  },
  {
   "cell_type": "code",
   "execution_count": 9,
   "metadata": {},
   "outputs": [],
   "source": [
    "df_yj.replace({\"楼栋\":{\"/\":\"\"}},inplace=True)"
   ]
  },
  {
   "cell_type": "code",
   "execution_count": 15,
   "metadata": {
    "scrolled": true
   },
   "outputs": [
    {
     "name": "stdout",
     "output_type": "stream",
     "text": [
      "读取梅溪郡商业签约明细\n",
      "合并梅溪郡商业签约明细\n",
      "读取梅溪郡签约明细\n",
      "合并梅溪郡签约明细\n",
      "读取梅溪郡车位明细\n",
      "合并梅溪郡车位明细\n",
      "\n",
      "读取滨江商业签约明细\n",
      "->无滨江商业签约明细表\n",
      "读取滨江签约明细\n",
      "合并滨江签约明细\n",
      "读取滨江车位明细\n",
      "合并滨江车位明细\n",
      "\n",
      "读取白鹭郡商业签约明细\n",
      "合并白鹭郡商业签约明细\n",
      "读取白鹭郡签约明细\n",
      "合并白鹭郡签约明细\n",
      "读取白鹭郡车位明细\n",
      "合并白鹭郡车位明细\n",
      "\n",
      "读取百汇商业签约明细\n",
      "合并百汇商业签约明细\n",
      "读取百汇签约明细\n",
      "合并百汇签约明细\n",
      "读取百汇车位明细\n",
      "合并百汇车位明细\n",
      "\n",
      "读取紫台商业签约明细\n",
      "合并紫台商业签约明细\n",
      "读取紫台签约明细\n",
      "合并紫台签约明细\n",
      "读取紫台车位明细\n",
      "合并紫台车位明细\n",
      "\n",
      "读取缇香商业签约明细\n",
      "合并缇香商业签约明细\n",
      "读取缇香签约明细\n",
      "合并缇香签约明细\n",
      "读取缇香车位明细\n",
      "合并缇香车位明细\n",
      "\n",
      "明细表读取完毕\n"
     ]
    }
   ],
   "source": [
    "df_mx = read_mx(path)"
   ]
  },
  {
   "cell_type": "code",
   "execution_count": null,
   "metadata": {},
   "outputs": [],
   "source": []
  },
  {
   "cell_type": "code",
   "execution_count": 23,
   "metadata": {},
   "outputs": [
    {
     "data": {
      "text/plain": [
       "13682    190\n",
       "Name: 房号, dtype: object"
      ]
     },
     "execution_count": 23,
     "metadata": {},
     "output_type": "execute_result"
    }
   ],
   "source": [
    "data = df_mx[df_mx['项目'] == \"滨江\"]\n",
    "data= data[data['类型']==\"车位\"]\n",
    "data[data['姓名'] == \"杜文涛\"]['房号']"
   ]
  },
  {
   "cell_type": "code",
   "execution_count": 102,
   "metadata": {},
   "outputs": [],
   "source": [
    "start_t = pd.to_datetime(\"2019-1-1\")\n",
    "targt_t = pd.to_datetime(\"2019-4-30\")\n",
    "data = get_interval_data(df_mx,\"签约日期\",targt_t,start_t)\n"
   ]
  },
  {
   "cell_type": "code",
   "execution_count": 103,
   "metadata": {
    "scrolled": true
   },
   "outputs": [],
   "source": [
    "xm_map_allname  = {\n",
    "    \"滨江\":\"长沙金域滨江\", \"百汇\":\"长沙金域国际\", \"缇香\":\"长沙金域缇香\"\n",
    "}\n",
    "\n",
    "data['产出归属日期'] = pd.to_datetime(data['签约日期']).apply(lambda x:x.strftime(\"%Y%m\"))+\"01\"\n",
    "data['归属区域'] = '长沙'\n",
    "data['事业部'] = \"长沙签约事业部\" \n",
    "data['项目名称'] = data['项目'].copy()\n",
    "data['开发商名称'] = \"万科\"\n",
    "data.replace({\"项目名称\":xm_map_allname},inplace=True)\n",
    "data['业务类型'] = data['类型'].copy()\n",
    "\n",
    "\n",
    "data.replace({\"业务类型\":{\"住宅\":\"住宅/商业:\",\"商业\":\"住宅/商业:\"}},inplace=True)\n",
    "\n",
    "\n",
    "\n",
    "data['贷款银行'] =  data['付款方式'].copy()\n",
    "\n",
    "data['付款方式'] = data['付款方式'].fillna(\"\").str.strip()\n",
    "data['付款方式'][data['付款方式'].str.contains('^一次性$')] = \"一次性付款\"\n",
    "data['付款方式'][data['付款方式'].str.contains('分期')] = \"分期付款\"\n",
    "data['付款方式'][data['付款方式'].str.contains('公积金')] = \"纯公积金贷款\"\n",
    "data['付款方式'][data['付款方式'].str.contains('组合')] = \"组合贷款\"\n",
    "\n",
    "\n",
    "data['付款方式'] [(data['付款方式']!=\"分期付款\") &(data['付款方式']!=\"\") & (data['付款方式']!=\"一次性付款\") & (data['付款方式']!=\"纯公积金贷款\")]  = \"商业贷款\"\n",
    "data['业务类型'][data['业务类型'] != '车位'] = data['业务类型'][data['业务类型'] != '车位'] + data['付款方式'][data['业务类型'] != '车位']\n",
    "data['业务类型'] = data['业务类型'].str.replace(\"商业贷款|纯公积金贷款\",\"按揭付款\")\n",
    "data = data[data[\"业务类型\"] != \"住宅/商业:\"]\n",
    "\n",
    "\n",
    "data['单元'] = \"/\"\n",
    "data['物业类型'] = data['类型']\n",
    "data['物业类型'] = data['物业类型'].str.replace(\"商业\",\"商铺\")\n",
    "data['套内面积'] = \"\"\n",
    "data['业主姓名'] = data['姓名']\n",
    "data['业主身份证'] = data['身份证号码']\n",
    "data['电话'] = data['联系电话']\n",
    "data[\"签约资料欠缺情况\"] = \"\"\n",
    "data[\"贷款资料欠缺情况\"] = \"\"\n",
    "data[\"是否关注贴心秘秘\"] = \"否\"\n",
    "\n",
    "data['客户领走合同日期'] = data['客户契税/维修基金']\n",
    "\n",
    "data.replace({'贷款银行':{\"^一次性|公积金\":\"\"}},regex=True,inplace=True)\n",
    "\n",
    "data['贷款年限'] = \"\"\n",
    "data['还款方式'] = \"\"\n",
    "\n",
    "data['正式签约日期'] = data[\"网签日期\"]\n",
    "data['正式签约日期'][data['类型'] == \"车位\"] = data['签约日期'][data['类型'] == \"车位\"]\n",
    "\n",
    "data['正式签约日期'] = pd.to_datetime(data['正式签约日期'])\n",
    "data = data[data['正式签约日期'].notna()] \n",
    "\n",
    "\n",
    "data['非正式签约日期'] = np.nan\n",
    "data['非正式签约日期'][data['类型'] != \"车位\"] = data['签约日期'][data['类型'] != \"车位\"]\n",
    "\n",
    "\n",
    "data['按揭签约日期'] = data['面签日期']\n",
    "\n",
    "data['银行送审日期/资料移交银行日期'] = \"\"\n",
    "data['银行审批通过日期'] = \"\""
   ]
  },
  {
   "cell_type": "code",
   "execution_count": 104,
   "metadata": {},
   "outputs": [],
   "source": [
    "data[\"预审批合同移交日期\"] = \"\"\n",
    "data[\"备案合同移交日期\"] = \"\"\n",
    "data[\"资料齐全日期\"] = \"\"\n",
    "data[\"维修基金费用到账日\"] = \"\"\n",
    "data[\"资金监管到帐日期\"] = \"\"\n",
    "data[\"银行提供备案资料日期\"] = \"\"\n",
    "\n",
    "data[\"银行提供预告资料日期\"] = \"\"\n",
    "\n",
    "data[\"抵押登记送件日期\"] = \"\"\n",
    "data[\"抵押登记出件日期\"] = \"\"\n",
    "\n",
    "data[\"完税证明接收日期\"] = \"\"\n",
    "data[\"接件日期（贵阳）\"] = \"\"\n",
    "data[\"房管局交件日期\"] = \"\"\n",
    "data[\"不动产送件日期\"] = \"\"\n",
    "data[\"不动产证出件日期\"] = \"\"\n",
    "data[\"他项权证送件日期\"] = \"\"\n",
    "data[\"他项权证出件日期\"] = \"\"\n",
    "data[\"是否需要开票\"] = \"是\"\n",
    "data[\"填报备注\"] = \"\"\n",
    "data[\"收费方式 \"] = \"\"\n",
    "data[\"实际收费日期 \"] = \"\"\n",
    "data[\"实际收费金额 \"] = \"\"\n",
    "data[\"通知书单号\"] = \"\"\n",
    "data[\"预告送件日期\"] = \"\"\n",
    "\n",
    "data[\"备案送件日期\"] = data[ '送备案时间']\n",
    "data[\"备案出件日期\"] = data[ '送备案时间']\n",
    "data[\"预告出件日期\"] = data['出证日期']\n",
    "data[\"预告送件日期\"] = data[\"备案完成时间\"]\n",
    "\n",
    "data[\"银行放款日期/全款到账日\"] = data['银行备案资料']\n",
    "data['成交总价'] = data['买卖合同总价']\n",
    "fileds = [\"产出归属日期\", \"归属区域\", \"事业部\", \"项目名称\", \"开发商名称\", \"业务类型\", \"楼栋\", \"单元\", \"房号\", \"物业类型\", \"建筑面积\", \"套内面积\", \"成交总价\", \"业主姓名\", \"业主身份证\", \"电话\", \"是否关注贴心秘秘\", \"签约资料欠缺情况\", \"贷款资料欠缺情况\", \"客户领走合同日期\", \"付款方式\", \"贷款金额\", \"贷款银行\", \"贷款年限\", \"还款方式\", \"非正式签约日期\", \"正式签约日期\", \"按揭签约日期\", \"银行送审日期/资料移交银行日期\", \"银行审批通过日期\", \"预审批合同移交日期\", \"备案合同移交日期\", \"资料齐全日期\", \"维修基金费用到账日\", \"资金监管到帐日期\", \"银行提供备案资料日期\", \"备案送件日期\", \"备案出件日期\", \"银行提供预告资料日期\", \"预告送件日期\", \"预告出件日期\", \"抵押登记送件日期\", \"抵押登记出件日期\", \"银行放款日期/全款到账日\", \"完税证明接收日期\", \"接件日期（贵阳）\", \"房管局交件日期\", \"不动产送件日期\", \"不动产证出件日期\", \"他项权证送件日期\", \"他项权证出件日期\", \"是否需要开票\", \"填报备注\", \"收费方式 \", \"实际收费日期 \", \"实际收费金额 \", \"通知书单号\",]"
   ]
  },
  {
   "cell_type": "code",
   "execution_count": 106,
   "metadata": {},
   "outputs": [],
   "source": [
    "data['楼栋'] = data['楼栋'].fillna(\"\").astype(str)\n",
    "\n",
    "df_yj['key'] = df_yj['楼栋']+\"-\"+df_yj['房号']+\"-\"+df_yj['物业类型']+df_yj[\"项目名称\"]\n",
    "data['key'] = data['楼栋'] +\"-\"+data['房号'].astype(str) +\"-\"+data['物业类型'] + data[\"项目名称\"]\n",
    "month4_data_set = set(data['key']) - set(df_yj['key'])\n",
    "data[\"产出归属日期\"][data['key'].isin(month4_data_set)] = \"20190401\""
   ]
  },
  {
   "cell_type": "code",
   "execution_count": 107,
   "metadata": {},
   "outputs": [],
   "source": [
    "writer = pd.ExcelWriter(r\"C:\\Users\\vkad\\Desktop\\test.xlsx\")\n",
    "data[fileds].to_excel(writer,sheet_name=\"data\",index=False)\n",
    "writer.save()"
   ]
  },
  {
   "cell_type": "code",
   "execution_count": 92,
   "metadata": {
    "scrolled": true
   },
   "outputs": [
    {
     "data": {
      "text/plain": [
       "{'-F2-773-车位长沙金域国际',\n",
       " '10-101-住宅紫台',\n",
       " '17-2202-住宅长沙金域国际',\n",
       " '17-4505-住宅长沙金域国际',\n",
       " '17-4702-住宅长沙金域国际',\n",
       " '18-1003-住宅长沙金域国际',\n",
       " '19-805-住宅长沙金域国际',\n",
       " '20-1001-住宅长沙金域国际',\n",
       " '20-1203-住宅长沙金域国际',\n",
       " '20-2604-住宅长沙金域国际',\n",
       " '20-2905-住宅长沙金域国际',\n",
       " '4-101-住宅长沙金域国际',\n",
       " '4-102-住宅长沙金域国际',\n",
       " '5-602-住宅长沙金域滨江',\n",
       " '6-105-住宅长沙金域国际',\n",
       " '6-106-住宅长沙金域国际',\n",
       " '6-1216-住宅长沙金域缇香',\n",
       " '8-101-住宅紫台'}"
      ]
     },
     "execution_count": 92,
     "metadata": {},
     "output_type": "execute_result"
    }
   ],
   "source": [
    "set(df_yj['key']) - set(data['key']) "
   ]
  },
  {
   "cell_type": "code",
   "execution_count": 91,
   "metadata": {
    "scrolled": true
   },
   "outputs": [
    {
     "data": {
      "text/plain": [
       "{'-A114-车位长沙金域滨江',\n",
       " '-C047-车位长沙金域滨江',\n",
       " '-C049-车位长沙金域滨江',\n",
       " '-C075-车位长沙金域滨江',\n",
       " '-C100-车位长沙金域滨江',\n",
       " '-C170-车位长沙金域滨江',\n",
       " '-D280-车位长沙金域滨江',\n",
       " '-D400-车位长沙金域滨江',\n",
       " '-D403-车位长沙金域滨江',\n",
       " '-E285-车位长沙金域滨江',\n",
       " '-E300-车位长沙金域滨江',\n",
       " '-E301-车位长沙金域滨江',\n",
       " '-E437-车位长沙金域滨江',\n",
       " '-F355-车位长沙金域滨江',\n",
       " '-F460-车位长沙金域滨江',\n",
       " '-F473-车位长沙金域滨江',\n",
       " '-G2-773-车位长沙金域国际',\n",
       " '10-204-住宅紫台',\n",
       " '10-302-住宅紫台',\n",
       " '10-303-住宅紫台',\n",
       " '10-304-住宅紫台',\n",
       " '10-3801-住宅长沙金域国际',\n",
       " '11-202-住宅紫台',\n",
       " '11-205-住宅紫台',\n",
       " '11-305-住宅紫台',\n",
       " '15-101-商铺紫台',\n",
       " '15-102-商铺紫台',\n",
       " '15-103-商铺紫台',\n",
       " '15-104-商铺紫台',\n",
       " '15-106-商铺紫台',\n",
       " '15-108-商铺紫台',\n",
       " '15-109-商铺紫台',\n",
       " '15-110-商铺紫台',\n",
       " '15-111-商铺紫台',\n",
       " '16-1903-住宅长沙金域国际',\n",
       " '17-603-住宅长沙金域国际',\n",
       " '18-3405-住宅长沙金域国际',\n",
       " '20-1604-住宅长沙金域国际',\n",
       " '20-3504-住宅长沙金域国际',\n",
       " '5-1802-住宅长沙金域滨江',\n",
       " '5-501-住宅长沙金域国际',\n",
       " '6-105-商铺长沙金域国际',\n",
       " '6-106-商铺长沙金域国际',\n",
       " '7-1002-住宅紫台',\n",
       " '7-1004-住宅紫台',\n",
       " '7-1204-住宅紫台',\n",
       " '7-1403-住宅紫台',\n",
       " '7-1601-住宅紫台',\n",
       " '7-2204-住宅紫台',\n",
       " '7-2601-住宅紫台',\n",
       " '7-2801-住宅紫台',\n",
       " '7-602-住宅紫台',\n",
       " '7-604-住宅紫台',\n",
       " '8-206-住宅紫台',\n",
       " '9-404-住宅紫台',\n",
       " 'S4-101-商铺长沙金域国际',\n",
       " 'S4-102-商铺长沙金域国际'}"
      ]
     },
     "execution_count": 91,
     "metadata": {},
     "output_type": "execute_result"
    }
   ],
   "source": [
    "month4_data_set = set(data['key']) - set(df_yj['key'])\n",
    "month4_data_set"
   ]
  }
 ],
 "metadata": {
  "kernelspec": {
   "display_name": "Python 3",
   "language": "python",
   "name": "python3"
  },
  "language_info": {
   "codemirror_mode": {
    "name": "ipython",
    "version": 3
   },
   "file_extension": ".py",
   "mimetype": "text/x-python",
   "name": "python",
   "nbconvert_exporter": "python",
   "pygments_lexer": "ipython3",
   "version": "3.6.5"
  }
 },
 "nbformat": 4,
 "nbformat_minor": 2
}
