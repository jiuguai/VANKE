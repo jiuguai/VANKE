{
 "cells": [
  {
   "cell_type": "code",
   "execution_count": 3,
   "metadata": {},
   "outputs": [],
   "source": [
    "import pandas as pd\n",
    "import re\n",
    "l = [\"长沙\", \"中信\", \"农行\", \"工行\", \"中行\", \"民生\", \"浦发\", \"建行\", \"邮政\"]\n",
    "\n",
    "s = \"截止到昨晚 长沙25笔 中信41笔 中行4笔 工行11笔 农行6笔 民生17笔 邮政4笔 建行45笔 浦发7笔\"\n",
    "\n",
    "patt = \"(?P<bank>[\\u4E00-\\u9FA5]{2})(?P<num>\\d+)\"\n",
    "com_bank = re.compile(patt)\n",
    "bank_l = []\n",
    "for m in com_bank.finditer(s):\n",
    "    bank_l.append( m.groupdict())\n"
   ]
  },
  {
   "cell_type": "code",
   "execution_count": 44,
   "metadata": {},
   "outputs": [
    {
     "data": {
      "text/plain": [
       "['1', '1', '3', '1', 0, 0, 0, '1', 0]"
      ]
     },
     "execution_count": 44,
     "metadata": {},
     "output_type": "execute_result"
    }
   ],
   "source": [
    "num_l"
   ]
  },
  {
   "cell_type": "code",
   "execution_count": 4,
   "metadata": {},
   "outputs": [
    {
     "name": "stdout",
     "output_type": "stream",
     "text": [
      "25\n",
      "41\n",
      "6\n",
      "11\n",
      "4\n",
      "17\n",
      "7\n",
      "45\n",
      "4\n"
     ]
    }
   ],
   "source": [
    "data = pd.DataFrame(bank_l).set_index('bank')\n",
    "data = data.loc[l].fillna(\"0\")\n",
    "num_l = data['num'].to_list()\n",
    "print('\\n'.join(num_l))"
   ]
  },
  {
   "cell_type": "code",
   "execution_count": 39,
   "metadata": {},
   "outputs": [
    {
     "data": {
      "text/plain": [
       "bank\n",
       "长沙    1\n",
       "中信    1\n",
       "农行    3\n",
       "工行    1\n",
       "中行    0\n",
       "民生    0\n",
       "浦发    0\n",
       "建行    1\n",
       "邮政    0\n",
       "Name: num, dtype: object"
      ]
     },
     "execution_count": 39,
     "metadata": {},
     "output_type": "execute_result"
    }
   ],
   "source": [
    "data['num']"
   ]
  }
 ],
 "metadata": {
  "kernelspec": {
   "display_name": "Python 3",
   "language": "python",
   "name": "python3"
  },
  "language_info": {
   "codemirror_mode": {
    "name": "ipython",
    "version": 3
   },
   "file_extension": ".py",
   "mimetype": "text/x-python",
   "name": "python",
   "nbconvert_exporter": "python",
   "pygments_lexer": "ipython3",
   "version": "3.6.5"
  }
 },
 "nbformat": 4,
 "nbformat_minor": 2
}
