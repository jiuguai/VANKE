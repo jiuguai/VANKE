{
 "cells": [
  {
   "cell_type": "code",
   "execution_count": 1,
   "metadata": {},
   "outputs": [],
   "source": [
    "import numpy as np\n",
    "import pandas as pd\n",
    "import os\n",
    "import datetime\n",
    "import warnings\n",
    "import time\n",
    "# 遍历所有文件\n",
    "import re\n",
    "warnings.filterwarnings('ignore') \n",
    "CURRENT_DATE = pd.to_datetime(datetime.date.today())\n",
    "from tool import *\n",
    "import shutil"
   ]
  },
  {
   "cell_type": "code",
   "execution_count": 2,
   "metadata": {},
   "outputs": [],
   "source": [
    "\n",
    "work_dir = r'C:\\Users\\vkad\\Desktop\\金梦'\n",
    "today= pd.to_datetime(datetime.datetime.today())\n",
    "today= pd.to_datetime(\"2019-4-17\")"
   ]
  },
  {
   "cell_type": "code",
   "execution_count": 3,
   "metadata": {},
   "outputs": [],
   "source": [
    "# 收回子表\n",
    "gd_c = r\"\\\\Sj-1\\金梦c\"\n",
    "gd_d = r\"\\\\Zhyw-csdcc\\金梦d\"\n",
    "gd_sj = r\"\\\\Sj-1\\数据表格\\数据总表\\签约明细表\"\n",
    "\n",
    "clear_folder(r\"C:\\Users\\vkad\\Desktop\\金梦\\子表\")\n",
    "shutil.copyfile(r\"D:\\金梦A\\金色梦想签约明细A.xlsm\",r\"C:\\Users\\vkad\\Desktop\\金梦\\子表\\金色梦想签约明细A.xlsm\")\n",
    "\n",
    "shutil.copyfile(gd_c + r\"\\金色梦想签约明细C.xlsm\",r\"C:\\Users\\vkad\\Desktop\\金梦\\子表\\金色梦想签约明细C.xlsm\")\n",
    "\n",
    "shutil.copyfile(gd_d + r\"\\金色梦想签约明细D.xlsm\",r\"C:\\Users\\vkad\\Desktop\\金梦\\子表\\金色梦想签约明细D.xlsm\")\n",
    "for file_name in os.listdir(gd_sj):\n",
    "    if re.search(\"^金色梦想\" , file_name):\n",
    "        shutil.copyfile(gd_sj + r\"\\\\\" + file_name,r\"C:\\Users\\vkad\\Desktop\\金梦\\子表\\\\\" + file_name )"
   ]
  },
  {
   "cell_type": "code",
   "execution_count": 4,
   "metadata": {},
   "outputs": [
    {
     "name": "stdout",
     "output_type": "stream",
     "text": [
      "工作簿金色梦想签约明细2019-05-05\n",
      "读取金色梦想商业签约明细\n",
      "合并金色梦想商业签约明细\n",
      "读取金色梦想签约明细\n",
      "合并金色梦想签约明细\n",
      "读取金色梦想车位明细\n",
      "合并金色梦想车位明细\n",
      "\n",
      "明细表读取完毕\n",
      "工作簿金色梦想签约明细A\n",
      "读取金色梦想商业签约明细\n",
      "合并金色梦想商业签约明细\n",
      "读取金色梦想签约明细\n",
      "合并金色梦想签约明细\n",
      "读取金色梦想车位明细\n",
      "合并金色梦想车位明细\n",
      "\n",
      "明细表读取完毕\n",
      "工作簿金色梦想签约明细C\n",
      "读取金色梦想商业签约明细\n",
      "合并金色梦想商业签约明细\n",
      "读取金色梦想签约明细\n",
      "合并金色梦想签约明细\n",
      "读取金色梦想车位明细\n",
      "合并金色梦想车位明细\n",
      "\n",
      "明细表读取完毕\n",
      "工作簿金色梦想签约明细D\n",
      "读取金色梦想商业签约明细\n",
      "合并金色梦想商业签约明细\n",
      "读取金色梦想签约明细\n",
      "合并金色梦想签约明细\n",
      "读取金色梦想车位明细\n",
      "合并金色梦想车位明细\n",
      "\n",
      "明细表读取完毕\n"
     ]
    }
   ],
   "source": [
    "df_gd = read_mx(work_dir + r\"\\子表\")\n",
    "del df_gd['序号']"
   ]
  },
  {
   "cell_type": "code",
   "execution_count": 14,
   "metadata": {},
   "outputs": [],
   "source": [
    "# df_gd[\"面签人员\"] = \"\""
   ]
  },
  {
   "cell_type": "code",
   "execution_count": 5,
   "metadata": {},
   "outputs": [],
   "source": [
    "gd_zz_fields = [\"序号\", \"房间编码\", \"姓名\", \"合并房号\", \"项目\", \"分期名称\", \"类型\", \"楼栋\", \"房号\", \"置业顾问\", \"认购日期\", \"面签日期\", \"签约日期\", \"购房资格录入日期\", \"单机改网签日期\", \"合同编号\", \"付款方式\", \"建筑面积\", \"买卖合同总价\", \"毛坯总价\", \"装修总价\", \"首付金额\", \"贷款金额\", \"关系及共有情况\", \"身份证号码\", \"联系电话\", \"联系地址\", \"网签人员\", \"面签人员\", \"银行按揭经理\", \"异常说明\", \"签约缺资料\", \"备案异常情况\", \"客户契税/维修基金\", \"银行备案资料\", \"送备案时间\", \"备案完成时间\", \"放款时间\", \"交付日期\", \"备案_业务宗号\", \"出证日期\", \"登记证号\", \"移交情况\", \"备注\", \"转签约异常\", \"任务归属\"]\n",
    "\n",
    "gd_sy_fields = [\"序号\", \"房间编码\", \"姓名\", \"合并房号\", \"项目\", \"分期名称\", \"类型\", \"楼栋\", \"房号\", \"置业顾问\", \"认购日期\", \"面签日期\", \"签约日期\", \"合同编号\", \"付款方式\", \"建筑面积\", \"买卖合同总价\", \"首付金额\", \"贷款金额\", \"身份证号码\", \"联系电话\", \"联系地址\", \"网签人员\", \"面签人员\", \"银行按揭经理\", \"关系及共有情况\", \"异常说明\", \"签约缺资料\", \"备案异常情况\", \"客户契税/维修基金\", \"银行备案资料\", \"送备案时间\", \"备案完成时间\", \"放款时间\", \"交付日期\", \"备案_业务宗号\", \"出证日期\", \"登记证号\", \"移交情况\", \"备注\", \"转签约异常\", \"任务归属\"]\n",
    "\n",
    "gd_cw_fields = [\"序号\", \"房间编码\", \"姓名\", \"房号\", \"合并房号\", \"项目\", \"分期名称\", \"类型\", \"置业顾问\", \"认购日期\", \"签约日期\", \"付款方式\", \"买卖合同总价\", \"首付金额\", \"贷款金额\", \"联系地址\", \"联系电话\", \"付清余款时间\", \"交付日期\", \"车位证编号\", \"车位类型\", \"备注\", \"转签约异常\", \"任务归属\"]\n",
    "writer = pd.ExcelWriter(work_dir + r\"\\data_map\\金色梦想all_data.xlsx\")\n",
    "data = df_gd[df_gd['类型'] == '住宅']\n",
    "data = add_order(data)\n",
    "data[gd_zz_fields].to_excel(writer,sheet_name=\"金色梦想签约明细\",index=False)\n",
    "\n",
    "data = df_gd[df_gd['类型'] == '商业']\n",
    "data = add_order(data)\n",
    "data[gd_zz_fields].to_excel(writer,sheet_name=\"金色梦想商业签约明细\",index=False)\n",
    "\n",
    "data = df_gd[df_gd['类型'] == '车位']\n",
    "data = add_order(data)\n",
    "data[gd_zz_fields].to_excel(writer,sheet_name=\"金色梦想车位明细\",index=False)\n",
    "\n",
    "writer.save()"
   ]
  },
  {
   "cell_type": "code",
   "execution_count": 9,
   "metadata": {},
   "outputs": [
    {
     "data": {
      "text/plain": [
       "array(['缇香签约明细A', '缇香签约明细B'], dtype=object)"
      ]
     },
     "execution_count": 9,
     "metadata": {},
     "output_type": "execute_result"
    }
   ],
   "source": [
    "df_gd[df_gd['姓名'].str.contains(\"\")]"
   ]
  },
  {
   "cell_type": "code",
   "execution_count": null,
   "metadata": {},
   "outputs": [],
   "source": [
    "df_gd[df_gd['合并房号'] == \"\"]"
   ]
  }
 ],
 "metadata": {
  "kernelspec": {
   "display_name": "Python 3",
   "language": "python",
   "name": "python3"
  },
  "language_info": {
   "codemirror_mode": {
    "name": "ipython",
    "version": 3
   },
   "file_extension": ".py",
   "mimetype": "text/x-python",
   "name": "python",
   "nbconvert_exporter": "python",
   "pygments_lexer": "ipython3",
   "version": "3.6.5"
  }
 },
 "nbformat": 4,
 "nbformat_minor": 2
}
