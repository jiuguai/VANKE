{
 "cells": [
  {
   "cell_type": "code",
   "execution_count": 41,
   "metadata": {},
   "outputs": [],
   "source": [
    "import numpy as np\n",
    "import pandas as pd\n",
    "import os\n",
    "import datetime\n",
    "import warnings\n",
    "import time\n",
    "# 遍历所有文件\n",
    "import re\n",
    "warnings.filterwarnings('ignore') \n",
    "CURRENT_DATE = pd.to_datetime(datetime.date.today())\n",
    "from tool import *\n",
    "import pprint \n",
    "import re"
   ]
  },
  {
   "cell_type": "code",
   "execution_count": 2,
   "metadata": {},
   "outputs": [],
   "source": [
    "# patt = \"\\[S_ST\\](?P<state_name>.+?)\\[E_ST\\]\"\n",
    "# s = \"xzcz[S_ST]购房资格审核通过[E_ST] xdsafdfasdfas\"\n",
    "# com_st = re.compile(patt)\n",
    "# r = com_st.search(s)\n",
    "# if r: \n",
    "#     print(r.groupdict()['state_name'])\n",
    "# "
   ]
  },
  {
   "cell_type": "code",
   "execution_count": 42,
   "metadata": {},
   "outputs": [
    {
     "name": "stdout",
     "output_type": "stream",
     "text": [
      "工作簿金色梦想签约明细2019-5-10\n",
      "读取金色梦想商业签约明细\n",
      "合并金色梦想商业签约明细\n",
      "读取金色梦想签约明细\n",
      "合并金色梦想签约明细\n",
      "读取金色梦想车位明细\n",
      "合并金色梦想车位明细\n",
      "\n",
      "明细表读取完毕\n"
     ]
    }
   ],
   "source": [
    "work_dir = r'C:\\Users\\vkad\\Desktop\\row'\n",
    "df_gd = read_mx(work_dir )\n",
    "def read_excel_file(work_dir,file_patt,header=0):\n",
    "    com_file = re.compile(file_patt)\n",
    "    for file in os.listdir(work_dir):\n",
    "        if com_file.search(file):\n",
    "            return pd.read_excel(os.path.join(work_dir,file),header=header)\n",
    "\n",
    "        \n",
    "# 回款\n",
    "data_hk = read_excel_file(work_dir,\"^回款进度表\",1)\n",
    "\n",
    "if '合并房号' not in data_hk.columns:\n",
    "    data_hk['合并房号'] = data_hk['楼栋名'].str.extract(\"(\\d+)\",expand=False) +  \"-\" + data_hk['房源'].str.extract(\"(\\d+(?=室))\",expand=False)\n",
    "\n",
    "    \n",
    "# 资格\n",
    "data_zg = read_excel_file(work_dir,\"^金梦\")\n",
    "data_zg['合并房号'] = data_zg['栋号'].astype(str).str.replace(\"栋\",\"\") + \"-\" + data_zg['房号'].astype(str)\n",
    "data_zg['核准标志'] =  data_zg['核准标志'].fillna(\"\")\n",
    "\n",
    "\n",
    "# data_lp = read_excel_file(work_dir,\"^财务楼盘表\")"
   ]
  },
  {
   "cell_type": "code",
   "execution_count": 4,
   "metadata": {},
   "outputs": [
    {
     "data": {
      "text/plain": [
       "'未录购房资格\\n已录购房资格\\n购房资格审核通过\\n购房资格审核不通过\\n缴纳政府税费\\n签署网签合同\\n已网签未缴政府税费\\n住建委备案\\n预抵押进窗\\n预抵押出证'"
      ]
     },
     "execution_count": 4,
     "metadata": {},
     "output_type": "execute_result"
    }
   ],
   "source": [
    "\"\"\"未录购房资格\n",
    "已录购房资格\n",
    "购房资格审核通过\n",
    "购房资格审核不通过\n",
    "缴纳政府税费\n",
    "签署网签合同\n",
    "已网签未缴政府税费\n",
    "住建委备案\n",
    "预抵押进窗\n",
    "预抵押出证\"\"\""
   ]
  },
  {
   "cell_type": "code",
   "execution_count": 43,
   "metadata": {},
   "outputs": [],
   "source": [
    "data_zg_r = data_zg[['合并房号','核准标志']]\n",
    "df_gd_fields = ['合并房号','客户契税/维修基金','网签日期',  '网签签字日期', '送备案时间','银行备案资料' ,'备案完成时间', '出证日期','付款方式']\n",
    "df_gd_r = df_gd[df_gd_fields]\n",
    "data_hk_r = data_hk[['序号','合并房号','房间ID',\n",
    "                     '当前按揭办理进度','新按揭办理进度',\"按揭备注\",\n",
    "                     \"当前公积金贷款办理进度\",\"新公积金贷款办理进度\",\"公积金备注\"]]\n",
    "\n",
    "# 资格通过\n",
    "zg_pass_set = set(data_zg_r['合并房号'][data_zg_r['核准标志']==\"通过\"])\n",
    "\n",
    "# 资格未通过\n",
    "zg_unpass_set = set(data_zg_r['合并房号'][data_zg_r['核准标志']==\"不通过\"])\n",
    "\n",
    "\n",
    "# 已录购房资格\n",
    "zg_record_set = set(data_zg_r['合并房号'][(data_zg_r['核准标志']==\"\") & (data_zg_r['核准标志'].isnull())])\n",
    "\n"
   ]
  },
  {
   "cell_type": "code",
   "execution_count": 6,
   "metadata": {},
   "outputs": [],
   "source": [
    "# data = pd.merge(data_hk_r,df_gd_r,how='left',on=\"合并房号\")\n",
    "# data_wqqz = data[['序号','网签签字日期']]\n",
    "\n",
    "\n",
    "# data_wqqz['网签签字日期'] = data_wqqz['网签签字日期'].dt.floor(\"d\").astype(str).str.replace(\"NaT\",\"\")\n",
    "\n",
    "# writer = pd.ExcelWriter(r\"C:\\Users\\vkad\\Desktop\\gogogo.xlsx\")\n",
    "# data_wqqz.sort_values('序号').to_excel(writer,sheet_name=\"data\",index=False)\n",
    "# writer.save()"
   ]
  },
  {
   "cell_type": "code",
   "execution_count": 45,
   "metadata": {},
   "outputs": [],
   "source": [
    "data = pd.merge(data_hk_r,df_gd_r,how='left',on=\"合并房号\")\n",
    "data['gjj_cache'] = data['公积金备注'].str.extract(\"\\[S_ST\\](?P<state_name>.*?)\\[E_ST\\]\").fillna(\"\").astype(str)\n",
    "data['aj_cache'] = data['按揭备注'].str.extract(\"\\[S_ST\\](?P<state_name>.*?)\\[E_ST\\]\").fillna(\"\").astype(str)\n",
    "# data = pd.merge(data,data_lp_r,how='left',on=\"房间ID\")\n",
    "\n",
    "# 按揭\n",
    "data['付款方式'] = data['付款方式'].fillna(\"\")\n",
    "# 组合贷\n",
    "data_zhd = data[data['付款方式'].str.contains('组合贷')]\n",
    "zhd_set = set(data_zhd['付款方式'])\n",
    "\n",
    "# 公积金\n",
    "data_gjj = data[data['付款方式'].str.contains('公积金')]\n",
    "gjj_set = set(data_gjj['付款方式']) - zhd_set\n",
    "fanj_set = set([\"一次性\",\"一次性分期\",\"赠送\",'转让',\"\"])\n",
    "pay_fun_set = set(data['付款方式']) - fanj_set - zhd_set - gjj_set\n",
    "fl_pay_set = set(data['付款方式']) - fanj_set\n",
    "\n",
    "data_aj = data[data['付款方式'].isin(pay_fun_set)]\n",
    "\n",
    "data_gjj = data[data['付款方式'].str.contains(\"公积金\")]\n",
    "data_temp = data_gjj[data_gjj['付款方式'].str.contains('组合贷')]\n",
    "gjj_set = set(data_gjj['付款方式']) - set(data_temp['付款方式'])\n",
    "data_gjj = data_gjj[data_gjj['付款方式'].isin(gjj_set)]\n",
    "\n",
    "\n",
    "def get_process_data(data,field):\n",
    "    data[field][data['合并房号'].isin(zg_pass_set)] = \"购房资格审查通过\"\n",
    "    data[field][data['合并房号'].isin(zg_unpass_set)] = \"购房资格审查不通过\"\n",
    "    data[field][data['合并房号'].isin(zg_record_set)] = \"购房资格审查中\"\n",
    "\n",
    "    data[field][data[field]==\"\"] = \"未录购房资格\"\n",
    "\n",
    "\n",
    "\n",
    "    # 网签合同已签字未缴纳政府税费\n",
    "    data[field][\n",
    "                        (data['客户契税/维修基金'].isnull() ) &\n",
    "                         (data['网签签字日期'].notnull() ) &\n",
    "                        (data['网签日期'].notnull())\n",
    "\n",
    "                    ] = \"网签合同已签定未缴政府税费\"\n",
    "\n",
    "    # 网签合同未签字\n",
    "    data[field][\n",
    "                (data['网签签字日期'].isnull() ) &\n",
    "                ((data['网签日期'].notnull() ) ) \n",
    "\n",
    "                    ] = \"网签合同未签定\"\n",
    "\n",
    "\n",
    "    # 住建委备案\n",
    "    data[field][\n",
    "                (data['客户契税/维修基金'].notnull() ) & \n",
    "                         (data['网签签字日期'].notnull() ) &\n",
    "                        (data['网签日期'].notnull())\n",
    "\n",
    "                    ] = \"完成网签\"\n",
    "    \n",
    "    data[field][(data['付款方式'].isin(fl_pay_set)) &\n",
    "                (data['客户契税/维修基金'].notnull() ) & \n",
    "                         (data['网签签字日期'].notnull() ) &\n",
    "                        (data['网签日期'].notnull()) &\n",
    "                (data['银行备案资料'].notnull())\n",
    "        \n",
    "    ] = \"网签合同备案\"\n",
    "    \n",
    "    \n",
    "    return data\n",
    "\n",
    "\n",
    "data_aj = get_process_data(data_aj,\"新按揭办理进度\")\n",
    "\n",
    "data_gjj = get_process_data(data_gjj,\"新公积金贷款办理进度\")\n"
   ]
  },
  {
   "cell_type": "code",
   "execution_count": 46,
   "metadata": {},
   "outputs": [],
   "source": [
    "aj_pri_set ={'未录购房资格': 1,\n",
    " '购房资格审查中': 2,\n",
    " '购房资格审查不通过': 4,\n",
    " '购房资格审查通过': 8,\n",
    " '已接件资料不齐': 16,\n",
    " '已接件面签合格': 32,\n",
    " '网签合同未签定': 64,\n",
    " '网签合同已签定未缴政府税费': 128,\n",
    " '完成网签': 256,\n",
    " '银行审批中': 512,\n",
    " '网签合同备案': 1024,\n",
    " '审批完成待放款': 2048,\n",
    " '已放款': 4096,\n",
    " '问题客户': 8192,\n",
    " '已退件/房': 16384}\n",
    "\n",
    "gjj_pri_set = {'未录购房资格': 1,\n",
    " '购房资格审查中': 2,\n",
    " '购房资格审查不通过': 4,\n",
    " '购房资格审查通过': 8,\n",
    " '已收集客户资料': 16,\n",
    " '网签合同未签定': 32,\n",
    " '网签合同已签定未缴政府税费': 64,\n",
    " '完成网签': 128,\n",
    " '公积金审批中': 256,\n",
    " '客户已面签': 512,\n",
    " '客户未面签': 1024,\n",
    " '网签合同备案': 2048,\n",
    " '预抵押进窗': 4096,\n",
    " '预抵押出证': 8192,\n",
    " '审批完成待放款': 16384,\n",
    " '已放款': 32768,\n",
    " '问题客户': 65536,\n",
    " '已退件/房': 131072}"
   ]
  },
  {
   "cell_type": "code",
   "execution_count": 47,
   "metadata": {},
   "outputs": [],
   "source": [
    "def update_aj(x):\n",
    "#     print(x)\n",
    "    # 当 还处于\n",
    "    if data_pri_set[x[new_pro_field]] < 5:\n",
    "        if x[bef_pro_field] in data_pri_set and data_pri_set[x[bef_pro_field]] > 5:\n",
    "            # 新进度 为 资格 并且为非通过状态 ， 执行备注\n",
    "            x[bz_pro_field] = x[bef_pro_field]\n",
    "            \n",
    "    # 如果 之前>新进度 标记为删除\n",
    "    elif x[bef_pro_field] in data_pri_set and data_pri_set[x[bef_pro_field]] >= data_pri_set[x[new_pro_field]]:\n",
    "        x[new_pro_field] = \"del\"\n",
    "        \n",
    "    # 之前 < 新的\n",
    "    elif x[bef_pro_field] in data_pri_set and data_pri_set[x[bef_pro_field]] < data_pri_set[x[new_pro_field]]:\n",
    "        # 备注 > 新的\n",
    "        if x[bz_pro_field] in data_pri_set and data_pri_set[x[bz_pro_field]] > data_pri_set[x[new_pro_field]]:\n",
    "            x[new_pro_field] = x[bz_pro_field]\n",
    "        x[bz_pro_field] = \"\"\n",
    "#         if x[bef_pro_field] in data_pri_set or  x[bef_pro_field] != \"网签合同已签定未缴政府税费\":\n",
    "#             x[bz_pro_field] = \"\"\n",
    "            \n",
    "    return x\n",
    "        # 网签合同已\n"
   ]
  },
  {
   "cell_type": "code",
   "execution_count": 48,
   "metadata": {},
   "outputs": [],
   "source": [
    "data_gjj_r = data_gjj[[\"当前公积金贷款办理进度\",\"新公积金贷款办理进度\",\"gjj_cache\"]].dropna(subset=[\"新公积金贷款办理进度\"])\n",
    "bef_pro_field = \"当前公积金贷款办理进度\"\n",
    "new_pro_field = \"新公积金贷款办理进度\"\n",
    "bz_pro_field = \"gjj_cache\"\n",
    "\n",
    "data_pri_set = gjj_pri_set\n",
    "\n",
    "data_gjj[\"当前按揭办理进度\"] = \"\"\n",
    "data_gjj[\"新按揭办理进度\"] = \"\"\n",
    "data_gjj[\"aj_cache\"] = \"\"\n",
    "del data_gjj[\"当前公积金贷款办理进度\"]\n",
    "del data_gjj[\"新公积金贷款办理进度\"]\n",
    "del data_gjj[\"gjj_cache\"]\n",
    "\n",
    "\n",
    "\n",
    "data_gjj_r = data_gjj_r.apply(update_aj,axis = 1)\n",
    "data_gjj = pd.concat([data_gjj,data_gjj_r],axis=1)\n",
    "\n",
    "\n",
    "\n",
    "data_gjj = data_gjj[data_gjj['新公积金贷款办理进度'] != \"del\"]\n"
   ]
  },
  {
   "cell_type": "code",
   "execution_count": 49,
   "metadata": {},
   "outputs": [],
   "source": [
    "data_aj_r = data_aj[['当前按揭办理进度','新按揭办理进度',\"aj_cache\"]].dropna(subset=[\"新按揭办理进度\"])\n",
    "bef_pro_field = \"当前按揭办理进度\"\n",
    "new_pro_field = \"新按揭办理进度\"\n",
    "bz_pro_field = \"aj_cache\"\n",
    "\n",
    "\n",
    "data_pri_set = aj_pri_set\n",
    "\n",
    "data_aj[\"当前公积金贷款办理进度\"] = \"\"\n",
    "data_aj[\"新公积金贷款办理进度\"] = \"\"\n",
    "data_aj[\"gjj_cache\"] = \"\"\n",
    "\n",
    "\n",
    "del data_aj[\"当前按揭办理进度\"]\n",
    "del data_aj[\"新按揭办理进度\"]\n",
    "del data_aj[\"aj_cache\"]\n",
    "\n",
    "data_aj_r = data_aj_r.apply(update_aj,axis = 1)\n",
    "data_aj = pd.concat([data_aj,data_aj_r],axis=1)\n",
    "\n",
    "\n",
    "data_aj = data_aj[data_aj['新按揭办理进度'] != \"del\"]\n"
   ]
  },
  {
   "cell_type": "code",
   "execution_count": 50,
   "metadata": {},
   "outputs": [],
   "source": [
    "data_total = pd.concat([data_aj,data_gjj])\n"
   ]
  },
  {
   "cell_type": "code",
   "execution_count": 51,
   "metadata": {},
   "outputs": [
    {
     "data": {
      "text/plain": [
       "Index(['aj_cache', 'gjj_cache', '付款方式', '公积金备注', '出证日期', '合并房号', '备案完成时间',\n",
       "       '客户契税/维修基金', '序号', '当前公积金贷款办理进度', '当前按揭办理进度', '房间ID', '按揭备注',\n",
       "       '新公积金贷款办理进度', '新按揭办理进度', '网签日期', '网签签字日期', '送备案时间', '银行备案资料'],\n",
       "      dtype='object')"
      ]
     },
     "execution_count": 51,
     "metadata": {},
     "output_type": "execute_result"
    }
   ],
   "source": [
    "data_total.columns"
   ]
  },
  {
   "cell_type": "code",
   "execution_count": 52,
   "metadata": {},
   "outputs": [],
   "source": [
    "data_total['按揭备注'] = data_total['按揭备注'].str.replace(\"\\[S_ST\\](?P<state_name>.*?)\\[E_ST\\]\",\"\")\n",
    "data_total['公积金备注'] = data_total['公积金备注'].str.replace(\"\\[S_ST\\](?P<state_name>.*?)\\[E_ST\\]\",\"\")\n",
    "                                           "
   ]
  },
  {
   "cell_type": "code",
   "execution_count": 53,
   "metadata": {},
   "outputs": [],
   "source": [
    "data_total['按揭备注'][data_total['aj_cache']==\"\"] = \\\n",
    "        \"[S_ST]\" + data_total['aj_cache'][data_total['aj_cache']==\"\"] + \"[E_ST]\" + data_total['按揭备注'][data_total['aj_cache']==\"\"]\n",
    "\n",
    "\n",
    "data_total['公积金备注'][data_total['gjj_cache']==\"\"] = \\\n",
    "        \"[S_ST]\" + data_total['gjj_cache'][data_total['gjj_cache']==\"\"] + \"[E_ST]\" + data_total['公积金备注'][data_total['gjj_cache']==\"\"]"
   ]
  },
  {
   "cell_type": "code",
   "execution_count": 54,
   "metadata": {},
   "outputs": [],
   "source": [
    "\n",
    "\n",
    "data_x = data_total[['房间ID',\"合并房号\",'付款方式','序号',\"网签签字日期\",\"当前公积金贷款办理进度\",\"新公积金贷款办理进度\",\"公积金备注\",'当前按揭办理进度','新按揭办理进度',\"按揭备注\"]]\n",
    "data_x['网签签字日期'] = data_x['网签签字日期'].dt.floor(\"d\").astype(str).str.replace(\"NaT\",\"\")\n",
    "writer = pd.ExcelWriter(r\"C:\\Users\\vkad\\Desktop\\gogogo.xlsx\")\n",
    "data_x.sort_values(\"序号\").to_excel(writer,index=False)\n",
    "writer.save()"
   ]
  },
  {
   "cell_type": "code",
   "execution_count": null,
   "metadata": {
    "scrolled": true
   },
   "outputs": [],
   "source": [
    "data_x.to_excel()"
   ]
  },
  {
   "cell_type": "code",
   "execution_count": null,
   "metadata": {},
   "outputs": [],
   "source": [
    "xxxxxx"
   ]
  },
  {
   "cell_type": "code",
   "execution_count": null,
   "metadata": {
    "scrolled": true
   },
   "outputs": [],
   "source": [
    "aj_l = [\"未录购房资格\",\"购房资格审查中\",\"购房资格审查不通过\",\"购房资格审查通过\",\"已接件资料不齐\",\"已接件面签合格\",\"网签合同未签定\",\"网签合同已签定未缴政府税费\",\"完成网签\",\"银行审批中\",\"网签合同备案\",\"审批完成待放款\",\"已放款\",\"问题客户\",\"已退件/房\"]\n",
    "dict(zip(aj_l,[2**x for x in list(range(len(aj_l)))]))"
   ]
  },
  {
   "cell_type": "code",
   "execution_count": null,
   "metadata": {},
   "outputs": [],
   "source": [
    "gjj_l = [\"未录购房资格\",\"购房资格审查中\",\"购房资格审查不通过\",\"购房资格审查通过\",\"已收集客户资料\",\"网签合同未签定\",\"网签合同已签定未缴政府税费\",\"完成网签\",\"公积金审批中\",\"客户已面签\",\"客户未面签\",\"网签合同备案\",\"预抵押进窗\",\"预抵押出证\",\"审批完成待放款\",\"已放款\",\"问题客户\",\"已退件/房\",]\n",
    "dict(zip(gjj_l,[2**x for x in list(range(len(gjj_l)))]))\n"
   ]
  },
  {
   "cell_type": "code",
   "execution_count": null,
   "metadata": {},
   "outputs": [],
   "source": [
    "x = \"未录购房资格\",\"购房资格审查中\",\"购房资格审查不通过\",\"购房资格审查通过\",\"已接件资料不齐\",\"已接件面签合格\",\"网签合同未签定\",\"网签合同已签定未缴政府税费\",\"完成网签\",\"银行审批中\",\"网签合同备案\",\"审批完成待放款\",\"已放款\",\"问题客户\",\"已退件/房\"\n",
    "pprint.pprint(x)"
   ]
  },
  {
   "cell_type": "code",
   "execution_count": null,
   "metadata": {},
   "outputs": [],
   "source": [
    "\n",
    "writer = pd.ExcelWriter(r\"C:\\Users\\vkad\\Desktop\\test.xlsx\")\n",
    "data.sort_values(\"序号\").to_excel(writer,index=False)\n",
    "writer.save()"
   ]
  },
  {
   "cell_type": "code",
   "execution_count": null,
   "metadata": {},
   "outputs": [],
   "source": [
    "\n",
    "data"
   ]
  }
 ],
 "metadata": {
  "kernelspec": {
   "display_name": "Python 3",
   "language": "python",
   "name": "python3"
  },
  "language_info": {
   "codemirror_mode": {
    "name": "ipython",
    "version": 3
   },
   "file_extension": ".py",
   "mimetype": "text/x-python",
   "name": "python",
   "nbconvert_exporter": "python",
   "pygments_lexer": "ipython3",
   "version": "3.6.5"
  }
 },
 "nbformat": 4,
 "nbformat_minor": 2
}
