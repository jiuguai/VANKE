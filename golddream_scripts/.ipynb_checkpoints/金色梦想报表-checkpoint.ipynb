{
 "cells": [
  {
   "cell_type": "code",
   "execution_count": 1,
   "metadata": {},
   "outputs": [],
   "source": [
    "import datetime\n",
    "import gold_dream_rep as gdr\n",
    "from tool import *\n",
    "pro_real_hz = gdr.pro_real_hz\n",
    "single_hz = gdr.single_hz\n",
    "gd_ld_trace = gdr.gd_ld_trace"
   ]
  },
  {
   "cell_type": "code",
   "execution_count": 2,
   "metadata": {},
   "outputs": [],
   "source": [
    "\n",
    "work_dir = r'C:\\Users\\vkad\\Desktop\\金梦'\n",
    "today= pd.to_datetime(datetime.datetime.today())\n",
    "# today= pd.to_datetime(\"2019-1-29\")"
   ]
  },
  {
   "cell_type": "code",
   "execution_count": 6,
   "metadata": {},
   "outputs": [
    {
     "data": {
      "text/plain": [
       "Timestamp('2019-05-05 18:30:25.280810')"
      ]
     },
     "execution_count": 6,
     "metadata": {},
     "output_type": "execute_result"
    }
   ],
   "source": [
    "today"
   ]
  },
  {
   "cell_type": "code",
   "execution_count": 3,
   "metadata": {},
   "outputs": [
    {
     "name": "stdout",
     "output_type": "stream",
     "text": [
      "工作簿金色梦想签约明细2019-05-05\n",
      "读取金色梦想商业签约明细\n",
      "合并金色梦想商业签约明细\n",
      "读取金色梦想签约明细\n",
      "合并金色梦想签约明细\n",
      "读取金色梦想车位明细\n",
      "合并金色梦想车位明细\n",
      "\n",
      "明细表读取完毕\n",
      "工作簿金色梦想签约明细A\n",
      "读取金色梦想商业签约明细\n",
      "合并金色梦想商业签约明细\n",
      "读取金色梦想签约明细\n",
      "合并金色梦想签约明细\n",
      "读取金色梦想车位明细\n",
      "合并金色梦想车位明细\n",
      "\n",
      "明细表读取完毕\n",
      "工作簿金色梦想签约明细C\n",
      "读取金色梦想商业签约明细\n",
      "合并金色梦想商业签约明细\n",
      "读取金色梦想签约明细\n",
      "合并金色梦想签约明细\n",
      "读取金色梦想车位明细\n",
      "合并金色梦想车位明细\n",
      "\n",
      "明细表读取完毕\n",
      "工作簿金色梦想签约明细D\n",
      "读取金色梦想商业签约明细\n",
      "合并金色梦想商业签约明细\n",
      "读取金色梦想签约明细\n",
      "合并金色梦想签约明细\n",
      "读取金色梦想车位明细\n",
      "合并金色梦想车位明细\n",
      "\n",
      "明细表读取完毕\n"
     ]
    }
   ],
   "source": [
    "df_gd = read_mx(work_dir + r\"\\子表\")\n",
    "del df_gd['序号']"
   ]
  },
  {
   "cell_type": "code",
   "execution_count": 8,
   "metadata": {},
   "outputs": [
    {
     "data": {
      "text/plain": [
       "0   2019-05-05\n",
       "1   2019-05-05\n",
       "2   2019-05-05\n",
       "3   2019-05-05\n",
       "4   2019-05-05\n",
       "Name: 签约日期, dtype: datetime64[ns]"
      ]
     },
     "execution_count": 8,
     "metadata": {},
     "output_type": "execute_result"
    }
   ],
   "source": [
    "df_gd_r['签约日期']"
   ]
  },
  {
   "cell_type": "code",
   "execution_count": 11,
   "metadata": {},
   "outputs": [
    {
     "data": {
      "text/plain": [
       "datetime.date(2019, 5, 5)"
      ]
     },
     "execution_count": 11,
     "metadata": {},
     "output_type": "execute_result"
    }
   ],
   "source": []
  },
  {
   "cell_type": "code",
   "execution_count": 7,
   "metadata": {},
   "outputs": [
    {
     "data": {
      "text/html": [
       "<div>\n",
       "<style scoped>\n",
       "    .dataframe tbody tr th:only-of-type {\n",
       "        vertical-align: middle;\n",
       "    }\n",
       "\n",
       "    .dataframe tbody tr th {\n",
       "        vertical-align: top;\n",
       "    }\n",
       "\n",
       "    .dataframe thead th {\n",
       "        text-align: right;\n",
       "    }\n",
       "</style>\n",
       "<table border=\"1\" class=\"dataframe\">\n",
       "  <thead>\n",
       "    <tr style=\"text-align: right;\">\n",
       "      <th></th>\n",
       "      <th>付款方式</th>\n",
       "      <th>买卖合同总价</th>\n",
       "      <th>贷款金额</th>\n",
       "      <th>签约日期</th>\n",
       "      <th>网签日期</th>\n",
       "      <th>类型</th>\n",
       "    </tr>\n",
       "  </thead>\n",
       "  <tbody>\n",
       "  </tbody>\n",
       "</table>\n",
       "</div>"
      ],
      "text/plain": [
       "Empty DataFrame\n",
       "Columns: [付款方式, 买卖合同总价, 贷款金额, 签约日期, 网签日期, 类型]\n",
       "Index: []"
      ]
     },
     "execution_count": 7,
     "metadata": {},
     "output_type": "execute_result"
    }
   ],
   "source": [
    "\n",
    "\n",
    "data = get_interval_data(df_gd_r,'签约日期',today.date())\n",
    "data"
   ]
  },
  {
   "cell_type": "code",
   "execution_count": 12,
   "metadata": {},
   "outputs": [],
   "source": [
    "\n",
    "\n",
    "date_s = datetime.datetime.today().strftime(\"%Y-%m-%d %H_%M_%S\")\n",
    "writer = pd.ExcelWriter(work_dir + r\"\\报表\\金梦统计%s.xlsx\" %date_s)\n",
    "\n",
    "df_gd_r = df_gd[['付款方式','买卖合同总价','贷款金额','签约日期','网签日期','类型']]\n",
    "\n",
    "data = get_interval_data(df_gd_r,'签约日期',today.date())\n",
    "\n",
    "writer = pro_real_hz(data,writer,\"今日\")\n",
    "\n",
    "l = list(range(7,12))\n",
    "l_ld = [str(x) + \"楼\" for x in l]\n",
    "l_data = [str(x)  for x in l]\n",
    "ld_l = list(zip(l_ld,l_data))\n",
    "\n",
    "writer = gd_ld_trace(df_gd,writer,ld_l)\n",
    "\n",
    "start_time = pd.to_datetime(datetime.datetime(today.year,today.month,1))\n",
    "data = get_interval_data(df_gd_r,'签约日期',today,start_time)\n",
    "\n",
    "writer = pro_real_hz(data,writer,\"本月\")\n",
    "\n",
    "\n",
    "data = df_gd[['房间编码','合并房号','姓名','类型',\"项目\",'置业顾问','认购日期','签约日期','网签日期','付款方式','买卖合同总价','贷款金额',]]\n",
    "data = add_order(data)\n",
    "data.to_excel(writer,index=False,sheet_name=\"金色梦想数据\")\n",
    "clear_folder(work_dir+r\"\\报表\")\n",
    "writer.save()"
   ]
  }
 ],
 "metadata": {
  "kernelspec": {
   "display_name": "Python 3",
   "language": "python",
   "name": "python3"
  },
  "language_info": {
   "codemirror_mode": {
    "name": "ipython",
    "version": 3
   },
   "file_extension": ".py",
   "mimetype": "text/x-python",
   "name": "python",
   "nbconvert_exporter": "python",
   "pygments_lexer": "ipython3",
   "version": "3.6.5"
  }
 },
 "nbformat": 4,
 "nbformat_minor": 2
}
