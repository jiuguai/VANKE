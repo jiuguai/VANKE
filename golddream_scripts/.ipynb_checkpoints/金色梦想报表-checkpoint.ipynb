{
 "cells": [
  {
   "cell_type": "code",
   "execution_count": 1,
   "metadata": {},
   "outputs": [],
   "source": [
    "import datetime\n",
    "import gold_dream_rep as gdr\n",
    "from tool import *\n",
    "pro_real_hz = gdr.pro_real_hz\n",
    "get_ld_info_hz = gdr.get_ld_info_hz\n",
    "single_hz = gdr.single_hz\n",
    "gd_ld_trace = gdr.gd_ld_trace"
   ]
  },
  {
   "cell_type": "code",
   "execution_count": 7,
   "metadata": {},
   "outputs": [],
   "source": [
    "\n",
    "work_dir = r'C:\\Users\\vkad\\Desktop\\金梦'\n",
    "today= pd.to_datetime(datetime.datetime.today())\n",
    "# today= pd.to_datetime(\"2019-1-29\")"
   ]
  },
  {
   "cell_type": "code",
   "execution_count": 3,
   "metadata": {},
   "outputs": [
    {
     "data": {
      "text/plain": [
       "Timestamp('2019-05-11 13:56:27.679641')"
      ]
     },
     "execution_count": 3,
     "metadata": {},
     "output_type": "execute_result"
    }
   ],
   "source": [
    "today"
   ]
  },
  {
   "cell_type": "code",
   "execution_count": 8,
   "metadata": {},
   "outputs": [
    {
     "name": "stdout",
     "output_type": "stream",
     "text": [
      "工作簿金色梦想签约明细2019-5-10\n",
      "读取金色梦想商业签约明细\n",
      "合并金色梦想商业签约明细\n",
      "读取金色梦想签约明细\n",
      "合并金色梦想签约明细\n",
      "读取金色梦想车位明细\n",
      "合并金色梦想车位明细\n",
      "\n",
      "明细表读取完毕\n"
     ]
    }
   ],
   "source": [
    "df_gd = read_mx(work_dir + r\"\\子表\")\n",
    "del df_gd['序号']"
   ]
  },
  {
   "cell_type": "code",
   "execution_count": 9,
   "metadata": {},
   "outputs": [],
   "source": [
    "\n",
    "\n",
    "date_s = datetime.datetime.today().strftime(\"%Y-%m-%d %H_%M_%S\")\n",
    "writer = pd.ExcelWriter(work_dir + r\"\\报表\\金梦统计%s.xlsx\" %date_s)\n",
    "\n",
    "df_gd_r = df_gd[['付款方式','买卖合同总价','贷款金额','签约日期','网签日期','类型']]\n",
    "\n",
    "data = get_interval_data(df_gd_r,'签约日期',today.date())\n",
    "\n",
    "writer = pro_real_hz(data,writer,\"今日\")\n",
    "\n",
    "l = list(range(11,18))\n",
    "l_ld = [str(x) + \"楼\" for x in l]\n",
    "l_data = [str(x)  for x in l]\n",
    "ld_l.append(\"汇总\")\n",
    "l_data.append([str(x)  for x in l])\n",
    "\n",
    "\n",
    "ld_l = list(zip(l_ld,l_data))\n",
    "\n",
    "writer = gd_ld_trace(df_gd,writer,ld_l)\n",
    "\n",
    "start_time = pd.to_datetime(datetime.datetime(today.year,today.month,1))\n",
    "data = get_interval_data(df_gd_r,'签约日期',today,start_time)\n",
    "\n",
    "writer = pro_real_hz(data,writer,\"本月\")\n",
    "\n",
    "\n",
    "data = df_gd[['房间编码','合并房号','姓名','类型',\"项目\",'置业顾问','认购日期','签约日期','网签日期','付款方式','买卖合同总价','贷款金额',]]\n",
    "data = add_order(data)\n",
    "data.to_excel(writer,index=False,sheet_name=\"金色梦想数据\")\n",
    "clear_folder(work_dir+r\"\\报表\")\n",
    "writer.save()"
   ]
  },
  {
   "cell_type": "code",
   "execution_count": 17,
   "metadata": {},
   "outputs": [
    {
     "data": {
      "text/plain": [
       "['11楼', '12楼', '13楼', '14楼', '15楼', '16楼', '17楼', '汇总']"
      ]
     },
     "execution_count": 17,
     "metadata": {},
     "output_type": "execute_result"
    }
   ],
   "source": [
    "l = list(range(11,18))\n",
    "l_ld = [str(x) + \"楼\" for x in l]\n",
    "l_ld.append(\"汇总\")\n",
    "l_ld"
   ]
  },
  {
   "cell_type": "code",
   "execution_count": 19,
   "metadata": {},
   "outputs": [],
   "source": []
  },
  {
   "cell_type": "code",
   "execution_count": 20,
   "metadata": {},
   "outputs": [
    {
     "data": {
      "text/plain": [
       "['11',\n",
       " '12',\n",
       " '13',\n",
       " '14',\n",
       " '15',\n",
       " '16',\n",
       " '17',\n",
       " ['11', '12', '13', '14', '15', '16', '17']]"
      ]
     },
     "execution_count": 20,
     "metadata": {},
     "output_type": "execute_result"
    }
   ],
   "source": []
  }
 ],
 "metadata": {
  "kernelspec": {
   "display_name": "Python 3",
   "language": "python",
   "name": "python3"
  },
  "language_info": {
   "codemirror_mode": {
    "name": "ipython",
    "version": 3
   },
   "file_extension": ".py",
   "mimetype": "text/x-python",
   "name": "python",
   "nbconvert_exporter": "python",
   "pygments_lexer": "ipython3",
   "version": "3.6.5"
  }
 },
 "nbformat": 4,
 "nbformat_minor": 2
}
