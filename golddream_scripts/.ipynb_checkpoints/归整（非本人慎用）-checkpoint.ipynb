{
 "cells": [
  {
   "cell_type": "code",
   "execution_count": 16,
   "metadata": {},
   "outputs": [],
   "source": [
    "import os\n",
    "import shutil\n",
    "from tool import * \n",
    "import re\n",
    "\n",
    "import datetime"
   ]
  },
  {
   "cell_type": "code",
   "execution_count": 17,
   "metadata": {},
   "outputs": [],
   "source": [
    "gd_c = r\"\\\\Sj-1\\金梦c\"\n",
    "gd_b = r\"\\\\Mjbc04-csdcc\\金梦b\"\n",
    "gd_d = r\"\\\\Zhyw-csdcc\\金梦d\"\n",
    "\n",
    "gd_sj = r\"\\\\Sj-1\\数据表格\\数据总表\\签约明细表\"\n",
    "\n",
    "template_path = r\"C:\\Users\\vkad\\Desktop\\金梦\\template\\金色梦想签约明细.xlsm\"\n",
    "gd_all_path = r\"C:\\Users\\vkad\\Desktop\\金梦\\总表\\金色梦想签约明细.xlsm\""
   ]
  },
  {
   "cell_type": "code",
   "execution_count": 19,
   "metadata": {},
   "outputs": [],
   "source": [
    "today = datetime.datetime.today()\n",
    "gd_c = r\"\\\\Sj-1\\金梦c\"\n",
    "gd_d = r\"\\\\Zhyw-csdcc\\金梦d\"\n",
    "gd_sj = r\"\\\\Sj-1\\数据表格\\数据总表\\签约明细表\"\n",
    "\n",
    "clear_folder(r\"C:\\Users\\vkad\\Desktop\\金梦\\子表\")\n",
    "shutil.copyfile(template_path,r\"D:\\金梦A\\金色梦想签约明细A.xlsm\")\n",
    "shutil.copyfile(template_path,gd_b + r\"\\金色梦想签约明细B.xlsm\")\n",
    "shutil.copyfile(template_path,gd_c + r\"\\金色梦想签约明细C.xlsm\")\n",
    "\n",
    "shutil.copyfile(template_path,gd_d + r\"\\金色梦想签约明细D.xlsm\")\n",
    "# for file_name in os.listdir(gd_sj):\n",
    "#     if re.search(\"^金色梦想\" , file_name):\n",
    "#         os.remove(gd_sj + r\"\\\\\" + file_name)\n",
    "#     shutil.copyfile(template_path,gd_sj + r\"\\金色梦想签约明细%s.xlsm\"  %(today.strftime(\"%Y-%m-%d\")))"
   ]
  }
 ],
 "metadata": {
  "kernelspec": {
   "display_name": "Python 3",
   "language": "python",
   "name": "python3"
  },
  "language_info": {
   "codemirror_mode": {
    "name": "ipython",
    "version": 3
   },
   "file_extension": ".py",
   "mimetype": "text/x-python",
   "name": "python",
   "nbconvert_exporter": "python",
   "pygments_lexer": "ipython3",
   "version": "3.6.5"
  }
 },
 "nbformat": 4,
 "nbformat_minor": 2
}
