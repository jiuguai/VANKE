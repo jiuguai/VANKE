{
 "cells": [
  {
   "cell_type": "code",
   "execution_count": 49,
   "metadata": {},
   "outputs": [],
   "source": [
    "import itchat\n",
    "import pprint\n",
    "import time"
   ]
  },
  {
   "cell_type": "code",
   "execution_count": 52,
   "metadata": {},
   "outputs": [
    {
     "data": {
      "text/plain": [
       "1.5004348754882812"
      ]
     },
     "execution_count": 52,
     "metadata": {},
     "output_type": "execute_result"
    }
   ],
   "source": [
    "st = time.time()\n",
    "time.sleep(1.5)\n",
    "et = time.time()\n",
    "et - st"
   ]
  },
  {
   "cell_type": "code",
   "execution_count": 2,
   "metadata": {},
   "outputs": [
    {
     "name": "stderr",
     "output_type": "stream",
     "text": [
      "Getting uuid of QR code.\n",
      "Downloading QR code.\n",
      "Please scan the QR code to log in.\n",
      "Please press confirm on your phone.\n",
      "Loading the contact, this may take a little while.\n",
      "Login successfully as kongc\n"
     ]
    }
   ],
   "source": [
    "@itchat.msg_register(itchat.content.TEXT,isGroupChat=True)\n",
    "#定义消息回复函数\n",
    "def text_reply(msg):\n",
    "    if msg.isAt:\n",
    "        itchat.send_msg( \"收到\", msg['FromUserName'])\n",
    "itchat.auto_login()\n",
    "# itchat.run(True)\n"
   ]
  },
  {
   "cell_type": "code",
   "execution_count": 55,
   "metadata": {},
   "outputs": [
    {
     "name": "stdout",
     "output_type": "stream",
     "text": [
      "0:04:24.666464\n"
     ]
    }
   ],
   "source": [
    "\n",
    "username = \"@@fa5975badd07dd3abc8ccf9d05242585a5c16c4ccb91da8de74be9bb676749bc\"\n",
    "itchat.send_msg( \"@所有人 劳烦各位发汇总数据\", username)"
   ]
  },
  {
   "cell_type": "code",
   "execution_count": 88,
   "metadata": {},
   "outputs": [
    {
     "data": {
      "text/plain": [
       "-2871.9614050388336"
      ]
     },
     "execution_count": 88,
     "metadata": {},
     "output_type": "execute_result"
    }
   ],
   "source": [
    " today .timestamp() - seq_time.timestamp() "
   ]
  },
  {
   "cell_type": "code",
   "execution_count": 91,
   "metadata": {},
   "outputs": [
    {
     "data": {
      "text/plain": [
       "296.52789211273193"
      ]
     },
     "execution_count": 91,
     "metadata": {},
     "output_type": "execute_result"
    }
   ],
   "source": [
    "x"
   ]
  },
  {
   "cell_type": "code",
   "execution_count": 93,
   "metadata": {},
   "outputs": [
    {
     "data": {
      "text/plain": [
       "<ItchatReturnValue: {'BaseResponse': {'Ret': 0, 'ErrMsg': '请求成功', 'RawMsg': '请求成功'}, 'MsgID': '4141031884421414812', 'LocalID': '15570497998008'}>"
      ]
     },
     "execution_count": 93,
     "metadata": {},
     "output_type": "execute_result"
    }
   ],
   "source": [
    "import datetime \n",
    "\n",
    "today = datetime.datetime.today()\n",
    "seq_time = datetime.datetime(today.year,today.month,today.day,today.hour,50)\n",
    "x = seq_time.timestamp() - today .timestamp()\n",
    "if x < 0:\n",
    "    pirnt(\"10分钟后激活\")\n",
    "    time.sleep(600)\n",
    "    x = seq_time.timestamp() - today .timestamp()\n",
    "time.sleep(int(x))\n",
    "username = \"@@fa5975badd07dd3abc8ccf9d05242585a5c16c4ccb91da8de74be9bb676749bc\"\n",
    "itchat.send_msg( \"@所有人 劳烦各位发汇总数据\", username)\n"
   ]
  },
  {
   "cell_type": "code",
   "execution_count": 59,
   "metadata": {},
   "outputs": [
    {
     "data": {
      "text/plain": [
       "83528"
      ]
     },
     "execution_count": 59,
     "metadata": {},
     "output_type": "execute_result"
    }
   ],
   "source": [
    "today = datetime.datetime.today()\n",
    "seq_time = datetime.datetime(today.year,today.month,today.day,today.hour,50)\n",
    "x = today - seq_time\n",
    "x.seconds"
   ]
  },
  {
   "cell_type": "code",
   "execution_count": 82,
   "metadata": {},
   "outputs": [
    {
     "data": {
      "text/plain": [
       "1557043712.078607"
      ]
     },
     "execution_count": 82,
     "metadata": {},
     "output_type": "execute_result"
    }
   ],
   "source": [
    "datetime.datetime.today().timestamp()"
   ]
  },
  {
   "cell_type": "code",
   "execution_count": 33,
   "metadata": {},
   "outputs": [
    {
     "data": {
      "text/plain": [
       "datetime.datetime(2019, 5, 5, 15, 50)"
      ]
     },
     "execution_count": 33,
     "metadata": {},
     "output_type": "execute_result"
    }
   ],
   "source": [
    "today.minute"
   ]
  },
  {
   "cell_type": "code",
   "execution_count": 11,
   "metadata": {},
   "outputs": [],
   "source": [
    "user_name = itchat.search_friends(name=\"佘乐乐\")[0]['UserName']"
   ]
  },
  {
   "cell_type": "code",
   "execution_count": 12,
   "metadata": {},
   "outputs": [
    {
     "data": {
      "text/plain": [
       "<ItchatReturnValue: {'BaseResponse': {'Ret': 0, 'ErrMsg': '请求成功', 'RawMsg': '请求成功'}, 'MsgID': '2480177186743963484', 'LocalID': '15570361898209'}>"
      ]
     },
     "execution_count": 12,
     "metadata": {},
     "output_type": "execute_result"
    }
   ],
   "source": [
    "itchat.send_msg('你',toUserName=user_name)"
   ]
  },
  {
   "cell_type": "code",
   "execution_count": 3,
   "metadata": {},
   "outputs": [
    {
     "data": {
      "text/plain": [
       "<User: {'MemberList': <ContactList: []>, 'UserName': '@cf50731e41203ece8e9113fde31fb86c76936cf0836a2758cba98af6426e0b6a', 'City': '', 'DisplayName': '', 'PYQuanPin': '', 'RemarkPYInitial': '', 'Province': '', 'KeyWord': '', 'RemarkName': '', 'PYInitial': '', 'EncryChatRoomId': '', 'Alias': '', 'Signature': '病来如山倒，病去如抽丝。久病是否良医？等...', 'NickName': 'kongc', 'RemarkPYQuanPin': '', 'HeadImgUrl': '/cgi-bin/mmwebwx-bin/webwxgeticon?seq=1168448366&username=@cf50731e41203ece8e9113fde31fb86c76936cf0836a2758cba98af6426e0b6a&skey=@crypt_a61b4fe9_4dec194066a04d1ce307b405a985ef85', 'UniFriend': 0, 'Sex': 1, 'AppAccountFlag': 0, 'VerifyFlag': 0, 'ChatRoomId': 0, 'HideInputBarFlag': 0, 'AttrStatus': 0, 'SnsFlag': 1, 'MemberCount': 0, 'OwnerUin': 0, 'ContactFlag': 0, 'Uin': 1668414906, 'StarFriend': 0, 'Statues': 0, 'WebWxPluginSwitch': 0, 'HeadImgFlag': 1}>"
      ]
     },
     "execution_count": 3,
     "metadata": {},
     "output_type": "execute_result"
    }
   ],
   "source": [
    "itchat.search_friends()"
   ]
  },
  {
   "cell_type": "code",
   "execution_count": 3,
   "metadata": {},
   "outputs": [],
   "source": [
    "friends = itchat.get_friends()"
   ]
  },
  {
   "cell_type": "code",
   "execution_count": 10,
   "metadata": {},
   "outputs": [
    {
     "data": {
      "text/plain": [
       "<User: {'MemberList': <ContactList: []>, 'UserName': '@9bfbb9251abc9c4836692ea14187ba395bdff6c6a5e77d878880e313ccc589ac', 'City': '', 'DisplayName': '', 'PYQuanPin': '', 'RemarkPYInitial': '', 'Province': '', 'KeyWord': '', 'RemarkName': '', 'PYInitial': '', 'EncryChatRoomId': '', 'Alias': '', 'Signature': '病来如山倒，病去如抽丝。久病是否良医？等...', 'NickName': 'kongc', 'RemarkPYQuanPin': '', 'HeadImgUrl': '/cgi-bin/mmwebwx-bin/webwxgeticon?seq=1099346689&username=@9bfbb9251abc9c4836692ea14187ba395bdff6c6a5e77d878880e313ccc589ac&skey=@crypt_a61b4fe9_25749ccfda8710a0b826ae5a49830a23', 'UniFriend': 0, 'Sex': 1, 'AppAccountFlag': 0, 'VerifyFlag': 0, 'ChatRoomId': 0, 'HideInputBarFlag': 0, 'AttrStatus': 0, 'SnsFlag': 1, 'MemberCount': 0, 'OwnerUin': 0, 'ContactFlag': 0, 'Uin': 1668414906, 'StarFriend': 0, 'Statues': 0, 'WebWxPluginSwitch': 0, 'HeadImgFlag': 1}>"
      ]
     },
     "execution_count": 10,
     "metadata": {},
     "output_type": "execute_result"
    }
   ],
   "source": [
    "x[0]"
   ]
  },
  {
   "cell_type": "code",
   "execution_count": 5,
   "metadata": {
    "collapsed": true
   },
   "outputs": [
    {
     "name": "stdout",
     "output_type": "stream",
     "text": [
      "[{'kongc': '@600ef191555892fb5871e1b2fc187aad503e0a984c683c595ea453bee4e6dd1f'},\n",
      " {'佘乐乐': '@fbbed578f90adba015275a789e8324985b309b1c9856ebffc7d33a000fb92cb0'},\n",
      " {'牪': '@df532dc4ef3b1d4d50cc0f5d4eea6abd4233cb6ca8211b5e27455651d02c6b9d'},\n",
      " {'yangshuang': '@fb56c84073829e5ef4468cc177e2d4ba'},\n",
      " {'霞霞': '@8984aab313b3ea9c9d6459d43254c4062bfc6cc92fe87281ff96a1615087dc68'},\n",
      " {'加菲没在家': '@15ef4f4d8ca76dd7daf64a63f4b0534c'},\n",
      " {'天下第二': '@5d26a8dbcbb7975560d3a711cd5ba881'},\n",
      " {'健康养生有智～刘智15211014523': '@2501ee7fe464ac3b7865d7575306c389a34e853b99dea6f76d0a16b732095e6c'},\n",
      " {'刘建湘': '@999ef82ae367ef71dd53ebd066782bcdd84f9328ab901b78cca851350441e669'},\n",
      " {'琴🍉 💃': '@676866c0a93426a0faebc4436e553b45c1e1c5805e74400e790684ad857d282a'},\n",
      " {\"y'tao\": '@8e7e44ad6b5fc7d78ee477c808bc1982'},\n",
      " {'Faye': '@15ef6053985dab92da527fca1a28e76e'},\n",
      " {'义全家电': '@8e09efe62ae40a765da533cd9b13c9d643b9250851f4a9658fc16b245eab581f'},\n",
      " {'飛': '@9d1bbb0383802a0d2af66c13f4d51c4e39492b5b40e345c4f9961c388992b499'},\n",
      " {'廖粟涵': '@7066791db46e910b0ae9ad8ca2f680ab'},\n",
      " {'周阳.Support': '@4a44988faf01f1b2458ef7dd939f5647'},\n",
      " {'\\xa0 \\xa0 \\xa0': '@aeeb0e892f135933fe976b7ac8715f694f5af68324fa858a12bab04e40f0e33f'},\n",
      " {'笑忘书': '@5fe9a596b10730727724ad386844029637634132ab8ad1bc6ddfad4b14ba53b4'},\n",
      " {'谭总': '@db0cf233b5c05be35dfeba9b0e895c8521897e418885fe11c6b1296abba8f640'},\n",
      " {'神经兮兮的貔貅': '@c3f2aa18c687c5792bac22ef7731cf50'},\n",
      " {'不服': '@6bdc3eed0f81e3ea98a317c26b5f86ef771d33cbe73406074072fe98b7fd6823'},\n",
      " {'香草': '@3dbd137d925d7ab030d28d55fa993d758661580b935febaa1cdb9d8cd62073b9'},\n",
      " {'易金龙': '@1f029cc4b7b92d4fa740c3857ea3ac6b37e98921dc8b5e0863bd83e484f4404b'},\n",
      " {'袁敬年': '@f25743c4b27a2e4ea0e7fda198fbd2c39d289835ab7a83df666e2d2aeaa093f7'},\n",
      " {'Fox..': '@927ea32d2bdc67ce069c74931ebaeea3'},\n",
      " {'闫岚': '@a1017383eab1313dfd16c268bb01abf8617e5dc51a7d6a3eb18bc0d6ee3e22ff'},\n",
      " {'撑一支长篙': '@109a183866e6211bbdaec81de9d19056'},\n",
      " {'加': '@2026098161019236a680861fe3ad7957e78e351a04cad77b709473263907a89b'},\n",
      " {'邱工': '@7c49c3104ee0fcb0c3ce019b7f34ffb11f039da9846019070a04780cd43e9421'},\n",
      " {'申蛋蛋': '@d8f3366dfc5ef8f3f2ad322f9ee52786'},\n",
      " {'不忘初心': '@e9e7b8aa0b75abb361820d7bb37cc89d4193d55756c301295f16b24307c5b165'},\n",
      " {'Hickey': '@a313fde63e2323e0b6491f068131eb5e70a5639a0f9782b2a59abd8b9c8fc179'},\n",
      " {'希哥': '@a2bf58df6bc28fe4e79dc1a9e87a53c36864f4b1627aca7ae9fbca0b34efedc1'},\n",
      " {'何难胖': '@a8b6fb9ec609d2a93fed50b01115356f26661a81415065ab101346144446c794'},\n",
      " {'芝芝': '@206e164fc0fdedb71e5047dcd0a4805b'},\n",
      " {'王超': '@2fdb5d6e98c800e389c84ed1369ab217170a847b3932cee43ec44d2d97045bd8'},\n",
      " {'5yesan': '@3d7995a38ba25fba5fc3a6132c177de5'},\n",
      " {'叶子': '@7a9c13e140ea1f183deb66f34f72c30a88ab59d65ea4fec696eec186bd5e20a8'},\n",
      " {'左左左': '@61a8d8ce7d58fbac1da1630c85c2c60f9885363a611e3b37a386154f648d916e'},\n",
      " {'周日的舒服佳': '@3654d612000add3276b8dc6f4128144ced0d54857921b8d1485d210b8203cbcb'},\n",
      " {'周垚': '@cd4ee250cdff2b4feb101e885df92822'},\n",
      " {'林灿灿@网易云课堂': '@f421ed4221bc818c8b730bfb3079055184858c1c89e35b7a15c33c2b999c0ec6'},\n",
      " {'Struggle': '@a0cdacb221339a3e89fe61b75b64941c5fa7351328029214de0740f465c3c0fe'},\n",
      " {'Lang': '@ea8e7581e916a0b6b411cb663e19543e'},\n",
      " {'贺念': '@2dfda72aca130c17f6bf7edb12e2536cf37df8885cf904f2ddb17a0f608bc6d7'},\n",
      " {'婷小乖': '@4d57a26a3e0b2a7593a05944829a8430'},\n",
      " {'阿韬': '@0b0e29657cfb6629601bb557d24ebc79c763b3d635af9fe32799fd57543f056f'},\n",
      " {'袁志文': '@493b0ecab175031a213067059ee4d0463ba187c2a7397d109819fcbb1524c218'},\n",
      " {'知足常乐': '@b1cb4360226540db314eff1fa558de1db9e4aca38bd7ec3a47b2aa7d6f13f207'},\n",
      " {'🍒🍒晴': '@edd51ec36f99efae0158850d4005c72abdbc6c327786e41412ec99bf11a02ab7'},\n",
      " {'A左左': '@b9deba41ccfc06ecd0bfd68949f9ef8ed280fbb9f180678032f4a1647e5e0164'},\n",
      " {'Halo': '@a3731145b68a1e58df9e66c4b85c9692aabe7484b7ba3ede61fb0dc6ffa1a3d1'},\n",
      " {'婷姑娘🌸': '@68f790ce18ffbb5810feb8c1835b906cd3c12af52b28f0083dd42b57a2bef6de'},\n",
      " {'程曦': '@bf1eedfdffe7c9bd6c14de4006558dceac12ead07459078e494462102312c8de'},\n",
      " {'暗黑者': '@1526a57495e778e6ecd2c8561ab55a60e29eeae8fb56ac9d591b78a2e9109a76'},\n",
      " {'Wangzicong': '@3a92951da60db7ab2104f7ac6af70908'},\n",
      " {'周星星': '@2f0018ac65dc4905cd5fae6f92c23ed4'},\n",
      " {'NO heartlees': '@4dba315f44883478641c2759887bbc846d4cae571877976640b878970455586a'},\n",
      " {'罗佳 🌟 🌟': '@1fe711636512e3b9b1c4a9b743a3b77c'},\n",
      " {'静': '@62d6b535308be4a987f5ed7054f689e4d895ebc86fba19747cdf4edfb2f206c6'},\n",
      " {'盛鼎小周': '@06151359b82755572d8c68e3e8fbbe18d6beb2e860ddeee823964c2754bf1663'},\n",
      " {'老易': '@3139ab167ab83b2ebc3f1ad3fadd5f27628c54c8d64182ca066edffbb5ead813'},\n",
      " {'烨': '@f7e676eca00ff6b640385b882d3611448fc1ea51dec476daf2616488bf19cdfd'},\n",
      " {'C': '@ef107d5935a8c774bb9b75cd5254d3f6'},\n",
      " {'月落乌啼': '@17ba6c8ddcb38e6bfd3e9afc7a991f9164173d97273af9ba6d082cd086a979b8'},\n",
      " {'易': '@d4f2454a7105d8b39b164b6e4b62a7af917bd3f4b9c8737b7729249ae3ff1e6f'},\n",
      " {'魏晓敏': '@2c8af26d4b08b058aece9baffe05497dab450e91701992a6a703aaa62eb29e12'},\n",
      " {'小尔东。': '@bb6e836eaa5c92611e67f626655c559be4f200e2da784c49568e2a787837774f'},\n",
      " {'萍子': '@79b5548ffc67cf038e351ba562702e4fab9675f264252876149216b12149ddb9'},\n",
      " {'革革': '@58de5a18638ee5e340b136b79ad3bc489dfee247505d28362e5baca6d87f78cd'},\n",
      " {'李灿(谷梓璇)': '@a2d1bc11f55b9a6c090f8928172d940e43e1c7b77c5c00050c59f50855f14c08'},\n",
      " {'刘治恒': '@03c93374d2265510e0ba188e0750e0e6df8e61eee1eb8440a072a26f105a1aab'}]\n"
     ]
    }
   ],
   "source": [
    "l = []\n",
    "for f in friends:\n",
    "    l.append({f['NickName']:f['UserName']})\n",
    "    \n",
    "pprint.pprint(l)"
   ]
  },
  {
   "cell_type": "code",
   "execution_count": 10,
   "metadata": {},
   "outputs": [],
   "source": [
    "chatrooms = itchat.get_chatrooms()\n"
   ]
  },
  {
   "cell_type": "code",
   "execution_count": null,
   "metadata": {},
   "outputs": [],
   "source": [
    "for c in chatrooms:\n",
    "    print(\"=\"*30)\n",
    "    print(c['NickName'])\n",
    "    i = 0\n",
    "    for x in c['MemberList']:\n",
    "        pprint.pprint({x['NickName']:x['UserName']})\n",
    "        i += 1\n",
    "    print(i)"
   ]
  },
  {
   "cell_type": "code",
   "execution_count": 17,
   "metadata": {},
   "outputs": [
    {
     "name": "stdout",
     "output_type": "stream",
     "text": [
      "{'数面': '@@b6697b08945fd900d8544805e14a0f863448d6c7670fb4d921afe01c3c0cf78f'}\n",
      "{'长沙格之律工作总群': '@@1a69eb6599b90ecb25be4aac8277b4b8fdc8344be06b107a3734bfb24f0eecbb'}\n",
      "{'（新）河西签约中心工作群': '@@34a2c8adc6b371a386bbcbf3eca1fd1000d949869aa35fa105fc6bdce049a976'}\n",
      "{'金色梦想集签报数群': '@@fa5975badd07dd3abc8ccf9d05242585a5c16c4ccb91da8de74be9bb676749bc'}\n",
      "{'数据通报(认购…未回款）': '@@2c808f676fe426d7b807cda6f60e2b82a7959f63483c38fa6ae5765f01e70c95'}\n",
      "{'汇总群': '@@3e2d4f3c0412feca559e88865b4e2e5ac970361df855079b1aedc876aa96fa0a'}\n",
      "{'左家大屋': '@@fa1b063b31a7ee55672f845a87cd9458e73f19f624cee679f802a268be9284a0'}\n"
     ]
    }
   ],
   "source": [
    "for c in chatrooms:\n",
    "    print({c['NickName']:c['UserName']})\n"
   ]
  },
  {
   "cell_type": "code",
   "execution_count": 11,
   "metadata": {},
   "outputs": [
    {
     "name": "stdout",
     "output_type": "stream",
     "text": [
      "==============================\n",
      "数面\n",
      "{'程曦': '@bf1eedfdffe7c9bd6c14de4006558dceac12ead07459078e494462102312c8de'}\n",
      "{'佘乐乐': '@fbbed578f90adba015275a789e8324985b309b1c9856ebffc7d33a000fb92cb0'}\n",
      "{'妙妙': '@7bcca6ad5ee4bbea5b534eeb9d7c3846'}\n",
      "{'kongc': '@600ef191555892fb5871e1b2fc187aad503e0a984c683c595ea453bee4e6dd1f'}\n",
      "{'静': '@62d6b535308be4a987f5ed7054f689e4d895ebc86fba19747cdf4edfb2f206c6'}\n",
      "{'桜': '@97cdf03d9362a5cd49b0082514e744786bd8e0fae28407637722b6cf1b69d98b'}\n",
      "6\n",
      "==============================\n",
      "长沙格之律工作总群\n",
      "0\n",
      "==============================\n",
      "（新）河西签约中心工作群\n",
      "{'亮哥': '@dcf0317bbbc7d3b3066ba77ec3850a5c'}\n",
      "{'Win。': '@a70a5b3f710fbacd3ae4311a51ba7962'}\n",
      "{'程曦': '@bf1eedfdffe7c9bd6c14de4006558dceac12ead07459078e494462102312c8de'}\n",
      "{'髙陽（陞凱顥進）': '@b9734ef16ae7a03eb57bb61e70b44784'}\n",
      "{'ㅡ ㅡ。🎉': '@a1d5fff34802a9e3378bc280fb9ba3c9'}\n",
      "{'佘乐乐': '@fbbed578f90adba015275a789e8324985b309b1c9856ebffc7d33a000fb92cb0'}\n",
      "{'Xyz': '@b720eb76e16c4be5fb2e0eae54be2acb39dee7ab86de5647b1fe7d352288c54d'}\n",
      "{'Yannie L': '@41faf231ab8377bce306a8b161208ce3d6d0d44ae41a2c1ad5e9d692737dae9f'}\n",
      "{'蕊儿': '@9330e6cca4b6164114255a3002d64b396bd9d2ac513f580a6a8ac30244eacac6'}\n",
      "{'星林海': '@12b377ca6e41578d80e753a1865bdc96729f2095bebfa42b79685d7cc3ed1c8c'}\n",
      "{'魏晓敏': '@2c8af26d4b08b058aece9baffe05497dab450e91701992a6a703aaa62eb29e12'}\n",
      "{'婷姑娘🌸': '@68f790ce18ffbb5810feb8c1835b906cd3c12af52b28f0083dd42b57a2bef6de'}\n",
      "{'Wangzicong': '@3a92951da60db7ab2104f7ac6af70908'}\n",
      "{'༄月亮是圆的༄': '@bbcda5429ccb791b5ab365c2c1e5384d5851b04de04161893882bfdac786e5c2'}\n",
      "{'彭勤': '@ba634220265279818604cc62495eb96a5eb8bdd3115877a08be077b9c4372c4b'}\n",
      "{'CHU': '@a07e95faa99b449a725d9c941d03097b1c883e003c03bf995eb7428578e27567'}\n",
      "{'远远': '@f081c827da3fd4acb5af802fbb6c3a0d8a980d9df4e4ab5a411c763ebaba1cff'}\n",
      "{'徐淑瑛': '@e050b9e7a726726398d97c4bf6e8e82128b84919129fbed178d0dba1a69f5b95'}\n",
      "{'影': '@0f3bf8d61fa8a5afba49842e3ee78f160b9e2738e9d671edbf3359bb43d62227'}\n",
      "{'宁静致远': '@9346578b86723e50945437cff6553547cf973bb1efd1320abd4428252a9a81b2'}\n",
      "{'静': '@62d6b535308be4a987f5ed7054f689e4d895ebc86fba19747cdf4edfb2f206c6'}\n",
      "{'桜': '@97cdf03d9362a5cd49b0082514e744786bd8e0fae28407637722b6cf1b69d98b'}\n",
      "{'kongc': '@600ef191555892fb5871e1b2fc187aad503e0a984c683c595ea453bee4e6dd1f'}\n",
      "{'蓝云xyl': '@2d94b7e8b4083f4d856566ebe2cc9f84'}\n",
      "{'婷小乖': '@4d57a26a3e0b2a7593a05944829a8430'}\n",
      "25\n",
      "==============================\n",
      "金色梦想集签报数群\n",
      "{'魏晓敏': '@2c8af26d4b08b058aece9baffe05497dab450e91701992a6a703aaa62eb29e12'}\n",
      "{'佘乐乐': '@fbbed578f90adba015275a789e8324985b309b1c9856ebffc7d33a000fb92cb0'}\n",
      "{'静': '@62d6b535308be4a987f5ed7054f689e4d895ebc86fba19747cdf4edfb2f206c6'}\n",
      "{'ㅡ ㅡ。🎉': '@a1d5fff34802a9e3378bc280fb9ba3c9'}\n",
      "{'程曦': '@bf1eedfdffe7c9bd6c14de4006558dceac12ead07459078e494462102312c8de'}\n",
      "{'蕊儿': '@9330e6cca4b6164114255a3002d64b396bd9d2ac513f580a6a8ac30244eacac6'}\n",
      "{'婷姑娘🌸': '@68f790ce18ffbb5810feb8c1835b906cd3c12af52b28f0083dd42b57a2bef6de'}\n",
      "{'Win。': '@a70a5b3f710fbacd3ae4311a51ba7962'}\n",
      "{'宁静致远': '@9346578b86723e50945437cff6553547cf973bb1efd1320abd4428252a9a81b2'}\n",
      "{'kongc': '@600ef191555892fb5871e1b2fc187aad503e0a984c683c595ea453bee4e6dd1f'}\n",
      "{'秦浪': '@40fe0835332821c7907569f7ad6e948c'}\n",
      "{'Wangzicong': '@3a92951da60db7ab2104f7ac6af70908'}\n",
      "{'༄月亮是圆的༄': '@bbcda5429ccb791b5ab365c2c1e5384d5851b04de04161893882bfdac786e5c2'}\n",
      "13\n",
      "==============================\n",
      "数据通报(认购…未回款）\n",
      "0\n",
      "==============================\n",
      "汇总群\n",
      "0\n",
      "==============================\n",
      "左家大屋\n",
      "{'荔子': '@5acd199cd354feb402c660ea9b37021b7e2c4d657d3723e579e756eee695924d'}\n",
      "{'大妈妈': '@7a9c13e140ea1f183deb66f34f72c30a88ab59d65ea4fec696eec186bd5e20a8'}\n",
      "{'辉姑': '@b9deba41ccfc06ecd0bfd68949f9ef8ed280fbb9f180678032f4a1647e5e0164'}\n",
      "{'左少良': '@61a8d8ce7d58fbac1da1630c85c2c60f9885363a611e3b37a386154f648d916e'}\n",
      "{'❄静静905❄': '@ffea0ba547b564d81aa7aa8d6dd0b886'}\n",
      "{'廖粟涵': '@7066791db46e910b0ae9ad8ca2f680ab'}\n",
      "{'kongc': '@600ef191555892fb5871e1b2fc187aad503e0a984c683c595ea453bee4e6dd1f'}\n",
      "{'段科员': '@305f452e9957e455d88759913848791490fcbd6ad19037c4a2fec08784e32bb3'}\n",
      "{'Yjl': '@d4f2454a7105d8b39b164b6e4b62a7af917bd3f4b9c8737b7729249ae3ff1e6f'}\n",
      "{'棋子': '@40f33873e24e0451804732224866233180dc95a1ad82c540e900ad2543adbe21'}\n",
      "{'大美女💁': '@55306fbd170122fcae76ea23d8b220fa1e272b905b42ebaae818fb517c8d95fe'}\n",
      "{'李子春13217369002': '@6a3949c4c3834fae149fb6b360809315db423d1119969a4ef5c92db3eb8b8c5f'}\n",
      "{'Zxp': '@a2bf58df6bc28fe4e79dc1a9e87a53c36864f4b1627aca7ae9fbca0b34efedc1'}\n",
      "13\n"
     ]
    }
   ],
   "source": [
    "for c in chatrooms:\n",
    "    print(\"=\"*30)\n",
    "    print(c['NickName'])\n",
    "    i = 0\n",
    "    for x in c['MemberList']:\n",
    "        pprint.pprint({x['NickName']:x['UserName']})\n",
    "        i += 1\n",
    "    print(i)"
   ]
  },
  {
   "cell_type": "code",
   "execution_count": 21,
   "metadata": {},
   "outputs": [
    {
     "data": {
      "text/plain": [
       "5"
      ]
     },
     "execution_count": 21,
     "metadata": {},
     "output_type": "execute_result"
    }
   ],
   "source": [
    "len(chatrooms)"
   ]
  },
  {
   "cell_type": "code",
   "execution_count": 26,
   "metadata": {},
   "outputs": [
    {
     "name": "stdout",
     "output_type": "stream",
     "text": [
      "['长沙格之律工作总群', '数面', '数据通报(认购…未回款）', '汇总群', '']\n"
     ]
    }
   ],
   "source": [
    "l = []\n",
    "for ctt in contact:\n",
    "    l.append(ctt['NickName'])\n",
    "    \n",
    "pprint.pprint(l)"
   ]
  },
  {
   "cell_type": "code",
   "execution_count": 58,
   "metadata": {
    "collapsed": true
   },
   "outputs": [
    {
     "data": {
      "text/plain": [
       "<ContactList: [<Chatroom: {'MemberList': <ContactList: [<ChatroomMember: {'MemberList': <ContactList: []>, 'Uin': 0, 'UserName': '@157f312d486666a77a832326ae3e757e', 'NickName': 'Win。', 'AttrStatus': 67623, 'PYInitial': '', 'PYQuanPin': '', 'RemarkPYInitial': '', 'RemarkPYQuanPin': '', 'MemberStatus': 0, 'DisplayName': '李迎-万科权证组', 'KeyWord': ''}>, <ChatroomMember: {'MemberList': <ContactList: []>, 'Uin': 0, 'UserName': '@d9ccd59cb63dba7ea5dc9219bb486634e0704051d4531e8d09287d01529d237f', 'NickName': '程曦', 'AttrStatus': 103423, 'PYInitial': '', 'PYQuanPin': '', 'RemarkPYInitial': '', 'RemarkPYQuanPin': '', 'MemberStatus': 0, 'DisplayName': '', 'KeyWord': ''}>, <ChatroomMember: {'MemberList': <ContactList: []>, 'Uin': 0, 'UserName': '@4be6c1a92258d7c9a7972f70d609539a6f6c02f1d231705c938a1749ced3e075', 'NickName': '晏秀', 'AttrStatus': 102437, 'PYInitial': '', 'PYQuanPin': '', 'RemarkPYInitial': '', 'RemarkPYQuanPin': '', 'MemberStatus': 0, 'DisplayName': '晏秀_卓越江岸', 'KeyWord': ''}>, <ChatroomMember: {'MemberList': <ContactList: []>, 'Uin': 0, 'UserName': '@f2a26e602e516ccb4d28733c9cf415d5', 'NickName': 'ㅡ ㅡ。🎉', 'AttrStatus': 33663079, 'PYInitial': '', 'PYQuanPin': '', 'RemarkPYInitial': '', 'RemarkPYQuanPin': '', 'MemberStatus': 0, 'DisplayName': '王怡涵-保利权证组', 'KeyWord': ''}>, <ChatroomMember: {'MemberList': <ContactList: []>, 'Uin': 0, 'UserName': '@81be279ea3d580103b8d88de4ae80ab82c7dd44b187b3c18e25124e88a64026d', 'NickName': '佘乐乐', 'AttrStatus': 102453, 'PYInitial': '', 'PYQuanPin': '', 'RemarkPYInitial': '', 'RemarkPYQuanPin': '', 'MemberStatus': 0, 'DisplayName': '佘乐乐-万科数据组', 'KeyWord': ''}>, <ChatroomMember: {'MemberList': <ContactList: []>, 'Uin': 0, 'UserName': '@c69e39abcb6848b7706596bddf1e4af40f3972d51a8da538607ce7f4df2ac7d3', 'NickName': 'Xyz', 'AttrStatus': 99385, 'PYInitial': '', 'PYQuanPin': '', 'RemarkPYInitial': '', 'RemarkPYQuanPin': '', 'MemberStatus': 0, 'DisplayName': '简永~万科签约组', 'KeyWord': ''}>, <ChatroomMember: {'MemberList': <ContactList: []>, 'Uin': 0, 'UserName': '@21422767972eb3498f7b98d7b1677f31b8b42f38b1b6165905a12364ca2c2b54', 'NickName': '蕊儿', 'AttrStatus': 131109, 'PYInitial': '', 'PYQuanPin': '', 'RemarkPYInitial': '', 'RemarkPYQuanPin': '', 'MemberStatus': 0, 'DisplayName': '周苗-万科权证组', 'KeyWord': ''}>, <ChatroomMember: {'MemberList': <ContactList: []>, 'Uin': 0, 'UserName': '@37ad43d11176a9277d15045c2660b044b471314ef388938fa3a88578616a499c', 'NickName': 'Yannie L', 'AttrStatus': 4133, 'PYInitial': '', 'PYQuanPin': '', 'RemarkPYInitial': '', 'RemarkPYQuanPin': '', 'MemberStatus': 0, 'DisplayName': '刘燕玲-万科财务组', 'KeyWord': ''}>, <ChatroomMember: {'MemberList': <ContactList: []>, 'Uin': 0, 'UserName': '@36ca07f289de2d0b29574d17d1b2a8cbbf172b743743a8699f8ca0b8180f72ff', 'NickName': '苗多多的麻麻', 'AttrStatus': 4133, 'PYInitial': '', 'PYQuanPin': '', 'RemarkPYInitial': '', 'RemarkPYQuanPin': '', 'MemberStatus': 0, 'DisplayName': '黎淑婷-保利权证组', 'KeyWord': ''}>, <ChatroomMember: {'MemberList': <ContactList: []>, 'Uin': 0, 'UserName': '@472ef0bb577a766f0c44f2c00f3a7624c7174109c7df0e53dbea2a651404afe1', 'NickName': '\\u3000', 'AttrStatus': 102521, 'PYInitial': '', 'PYQuanPin': '', 'RemarkPYInitial': '', 'RemarkPYQuanPin': '', 'MemberStatus': 0, 'DisplayName': '陈依 万科财务组', 'KeyWord': ''}>, <ChatroomMember: {'MemberList': <ContactList: []>, 'Uin': 0, 'UserName': '@94be7958c369ed3ef22639bf550f2f3969946ffbe2b4df57218b94e63d4c93ae', 'NickName': '平', 'AttrStatus': 2147588135, 'PYInitial': '', 'PYQuanPin': '', 'RemarkPYInitial': '', 'RemarkPYQuanPin': '', 'MemberStatus': 0, 'DisplayName': '罗亚平—卓越青竹湖', 'KeyWord': ''}>, <ChatroomMember: {'MemberList': <ContactList: []>, 'Uin': 0, 'UserName': '@5fb8421a25e7a903d7a3d3779f00e77f23babf3a1514ec5183a7dfac74b89baf', 'NickName': '星林海', 'AttrStatus': 2147487797, 'PYInitial': '', 'PYQuanPin': '', 'RemarkPYInitial': '', 'RemarkPYQuanPin': '', 'MemberStatus': 0, 'DisplayName': '何群玉–万科权证组', 'KeyWord': ''}>, <ChatroomMember: {'MemberList': <ContactList: []>, 'Uin': 0, 'UserName': '@20e728fc83be70dc08abcbb02496e2e9', 'NickName': '妙妙', 'AttrStatus': 102503, 'PYInitial': '', 'PYQuanPin': '', 'RemarkPYInitial': '', 'RemarkPYQuanPin': '', 'MemberStatus': 0, 'DisplayName': '李妙妙-卓越中环', 'KeyWord': ''}>, <ChatroomMember: {'MemberList': <ContactList: []>, 'Uin': 0, 'UserName': '@314d29758dd18ee57747f2ff9a423888bf21232a188515d6b2dd6d4a08df74cf', 'NickName': '🍒🍒晴', 'AttrStatus': 233893, 'PYInitial': '', 'PYQuanPin': '', 'RemarkPYInitial': '', 'RemarkPYQuanPin': '', 'MemberStatus': 0, 'DisplayName': '李湘梅-卓越中寰🍒', 'KeyWord': ''}>, <ChatroomMember: {'MemberList': <ContactList: []>, 'Uin': 0, 'UserName': '@a8e7d9fde5ef731fae55abeadf6d61e10c9f683a11b9d7c64cd615c223321149', 'NickName': '宁静致远', 'AttrStatus': 98405, 'PYInitial': '', 'PYQuanPin': '', 'RemarkPYInitial': '', 'RemarkPYQuanPin': '', 'MemberStatus': 0, 'DisplayName': '贺娟-万科签约组', 'KeyWord': ''}>, <ChatroomMember: {'MemberList': <ContactList: []>, 'Uin': 0, 'UserName': '@db40eee93233fb15be4940a6dfb29ec8f59643bcecb7fa9e3394df5c10a65fa7', 'NickName': '牪', 'AttrStatus': 102437, 'PYInitial': '', 'PYQuanPin': '', 'RemarkPYInitial': '', 'RemarkPYQuanPin': '', 'MemberStatus': 0, 'DisplayName': '杨乐天-卓越青竹湖', 'KeyWord': ''}>, <ChatroomMember: {'MemberList': <ContactList: []>, 'Uin': 0, 'UserName': '@4276296a52178c57592ee092751bd84f32cab81d0a296694b0d1401fbdaba754', 'NickName': '魏晓敏', 'AttrStatus': 235967, 'PYInitial': '', 'PYQuanPin': '', 'RemarkPYInitial': '', 'RemarkPYQuanPin': '', 'MemberStatus': 0, 'DisplayName': '', 'KeyWord': ''}>, <ChatroomMember: {'MemberList': <ContactList: []>, 'Uin': 0, 'UserName': '@52ef8ac4a053834b48989de7f013c124f7daab003099184f4b38cfb64a411577', 'NickName': '围脖哨兵 Nic', 'AttrStatus': 16785315, 'PYInitial': '', 'PYQuanPin': '', 'RemarkPYInitial': '', 'RemarkPYQuanPin': '', 'MemberStatus': 0, 'DisplayName': '集团人力-李少斌13580363089', 'KeyWord': ''}>, <ChatroomMember: {'MemberList': <ContactList: []>, 'Uin': 0, 'UserName': '@608a0cb5513bdcdfae12429560b0e9ae', 'NickName': '婷小乖', 'AttrStatus': 104743, 'PYInitial': '', 'PYQuanPin': '', 'RemarkPYInitial': '', 'RemarkPYQuanPin': '', 'MemberStatus': 0, 'DisplayName': '李婷HRBP15387573557', 'KeyWord': ''}>, <ChatroomMember: {'MemberList': <ContactList: []>, 'Uin': 0, 'UserName': '@c476713df1faf35b8de213bd7f5e12987ccf4d136814aa9483aebce35973bbf0', 'NickName': '婷姑娘🌸', 'AttrStatus': 102501, 'PYInitial': '', 'PYQuanPin': '', 'RemarkPYInitial': '', 'RemarkPYQuanPin': '', 'MemberStatus': 0, 'DisplayName': '谭婷―万科财务组\\ue030', 'KeyWord': ''}>, <ChatroomMember: {'MemberList': <ContactList: []>, 'Uin': 0, 'UserName': '@90b8425b7501c04266ca867df8032a07ff63f97f8acf61a9ac004a1e3b49479b', 'NickName': '༄月亮是圆的༄', 'AttrStatus': 105061, 'PYInitial': '', 'PYQuanPin': '', 'RemarkPYInitial': '', 'RemarkPYQuanPin': '', 'MemberStatus': 0, 'DisplayName': '陈明月／按揭组', 'KeyWord': ''}>, <ChatroomMember: {'MemberList': <ContactList: []>, 'Uin': 0, 'UserName': '@1d6629ab75bb47abee5de10cdc3099dcf5e745e314a85d00c5d0b98d192a9da1', 'NickName': '飞儿HJY', 'AttrStatus': 102501, 'PYInitial': '', 'PYQuanPin': '', 'RemarkPYInitial': '', 'RemarkPYQuanPin': '', 'MemberStatus': 0, 'DisplayName': '黄辉—卓越中寰签约组', 'KeyWord': ''}>, <ChatroomMember: {'MemberList': <ContactList: []>, 'Uin': 0, 'UserName': '@518c8945edc0757995d08e7f47301ee5', 'NickName': '秦浪', 'AttrStatus': 104127, 'PYInitial': '', 'PYQuanPin': '', 'RemarkPYInitial': '', 'RemarkPYQuanPin': '', 'MemberStatus': 0, 'DisplayName': '秦浪—万科权证组', 'KeyWord': ''}>, <ChatroomMember: {'MemberList': <ContactList: []>, 'Uin': 0, 'UserName': '@7bd2ae0be6020118b829a2ef08564a648f59854890c52b88f4fc827e32ac76fd', 'NickName': '王涓', 'AttrStatus': 233405, 'PYInitial': '', 'PYQuanPin': '', 'RemarkPYInitial': '', 'RemarkPYQuanPin': '', 'MemberStatus': 0, 'DisplayName': '王娟-万科权证组', 'KeyWord': ''}>, <ChatroomMember: {'MemberList': <ContactList: []>, 'Uin': 0, 'UserName': '@597382085a3186e9b4a12db7deadec68', 'NickName': 'Wangzicong', 'AttrStatus': 102503, 'PYInitial': '', 'PYQuanPin': '', 'RemarkPYInitial': '', 'RemarkPYQuanPin': '', 'MemberStatus': 0, 'DisplayName': '王子聪 万科按揭组', 'KeyWord': ''}>, <ChatroomMember: {'MemberList': <ContactList: []>, 'Uin': 0, 'UserName': '@abbacb71fb905eb493c03455ce39ee8906aa1038deb95a70405a8571602b2584', 'NickName': 'kongc', 'AttrStatus': 33558885, 'PYInitial': '', 'PYQuanPin': '', 'RemarkPYInitial': '', 'RemarkPYQuanPin': '', 'MemberStatus': 0, 'DisplayName': '左泽骏_万科数据组', 'KeyWord': ''}>, <ChatroomMember: {'MemberList': <ContactList: []>, 'Uin': 0, 'UserName': '@0f636434960e9307d92f58a254d12ef48837ef6963b8772b32f2724a73747b69', 'NickName': '静', 'AttrStatus': 4197, 'PYInitial': '', 'PYQuanPin': '', 'RemarkPYInitial': '', 'RemarkPYQuanPin': '', 'MemberStatus': 0, 'DisplayName': '王静 - 万科数据组', 'KeyWord': ''}>, <ChatroomMember: {'MemberList': <ContactList: []>, 'Uin': 0, 'UserName': '@cbecdf5217b2f890518be786c72b0c5c', 'NickName': '肯奇· 罗', 'AttrStatus': 4267133, 'PYInitial': '', 'PYQuanPin': '', 'RemarkPYInitial': '', 'RemarkPYQuanPin': '', 'MemberStatus': 0, 'DisplayName': '罗剑辉 集团人力资源部', 'KeyWord': ''}>, <ChatroomMember: {'MemberList': <ContactList: []>, 'Uin': 0, 'UserName': '@977e70bbc8614ba90ad325eace0b3e9db1c2d2e1b5876a676a1c5d41a55c9e8a', 'NickName': '可&amp;甜', 'AttrStatus': 2147487783, 'PYInitial': '', 'PYQuanPin': '', 'RemarkPYInitial': '', 'RemarkPYQuanPin': '', 'MemberStatus': 0, 'DisplayName': '喻巧-雅居乐签约组', 'KeyWord': ''}>, <ChatroomMember: {'MemberList': <ContactList: []>, 'Uin': 0, 'UserName': '@1d1b8f18069a262149b64e663131b578', 'NickName': 'AngeLa', 'AttrStatus': 33786359, 'PYInitial': '', 'PYQuanPin': '', 'RemarkPYInitial': '', 'RemarkPYQuanPin': '', 'MemberStatus': 0, 'DisplayName': '杜杰瑜Angela集团运营部', 'KeyWord': ''}>, <ChatroomMember: {'MemberList': <ContactList: []>, 'Uin': 0, 'UserName': '@e0aaa000897e3821393e5bb82ee1de3c8facff2e6078caf45e235f8ae42d8ac9', 'NickName': 'CHU', 'AttrStatus': 135589, 'PYInitial': '', 'PYQuanPin': '', 'RemarkPYInitial': '', 'RemarkPYQuanPin': '', 'MemberStatus': 0, 'DisplayName': '楚皓斐-万科财务组', 'KeyWord': ''}>, <ChatroomMember: {'MemberList': <ContactList: []>, 'Uin': 0, 'UserName': '@7fcc47fcfd3582f65e8afb910db6c3c9', 'NickName': '✨摄氏零度✨', 'AttrStatus': 66751, 'PYInitial': '', 'PYQuanPin': '', 'RemarkPYInitial': '', 'RemarkPYQuanPin': '', 'MemberStatus': 0, 'DisplayName': '权证组 周莎18670727917', 'KeyWord': ''}>, <ChatroomMember: {'MemberList': <ContactList: []>, 'Uin': 0, 'UserName': '@49bc0a87114e72c9ffa9efac8ba8190dd090adfd9d839e3e9807b7dc3ffc2249', 'NickName': '桜', 'AttrStatus': 135549, 'PYInitial': '', 'PYQuanPin': '', 'RemarkPYInitial': '', 'RemarkPYQuanPin': '', 'MemberStatus': 0, 'DisplayName': '谢奕－万科数据组', 'KeyWord': ''}>, <ChatroomMember: {'MemberList': <ContactList: []>, 'Uin': 0, 'UserName': '@e4ded039bc392525168218b8cbd3e8b6', 'NickName': '简单', 'AttrStatus': 240831, 'PYInitial': '', 'PYQuanPin': '', 'RemarkPYInitial': '', 'RemarkPYQuanPin': '', 'MemberStatus': 0, 'DisplayName': '吴丹', 'KeyWord': ''}>, <ChatroomMember: {'MemberList': <ContactList: []>, 'Uin': 0, 'UserName': '@6e89319f3a6ae5f96a51e7993b6d73d71560f11c98c36c682d48e0a057cf69ea', 'NickName': '影', 'AttrStatus': 4133, 'PYInitial': '', 'PYQuanPin': '', 'RemarkPYInitial': '', 'RemarkPYQuanPin': '', 'MemberStatus': 0, 'DisplayName': '滕娜娜', 'KeyWord': ''}>, <ChatroomMember: {'MemberList': <ContactList: []>, 'Uin': 0, 'UserName': '@8bd61f330446f6df9deb781babdc2a742e6dea3dbbbb7f316dff6b3ecec855f0', 'NickName': 'Nicole🍀～瑛子', 'AttrStatus': 66663, 'PYInitial': '', 'PYQuanPin': '', 'RemarkPYInitial': '', 'RemarkPYQuanPin': '', 'MemberStatus': 0, 'DisplayName': '沈瑛', 'KeyWord': ''}>]>, 'Uin': 0, 'UserName': '@@f19020d03cbd8cb674bb5d2d925c2e001674aa1c476e79f0b12b4b0b634fa51e', 'NickName': '长沙格之律工作总群', 'HeadImgUrl': '/cgi-bin/mmwebwx-bin/webwxgetheadimg?seq=0&username=@@f19020d03cbd8cb674bb5d2d925c2e001674aa1c476e79f0b12b4b0b634fa51e&skey=@crypt_a61b4fe9_d922bd73489e3fb88b7fbcde0e8a14e5', 'ContactFlag': 2, 'MemberCount': 36, 'RemarkName': '', 'HideInputBarFlag': 0, 'Sex': 0, 'Signature': '', 'VerifyFlag': 0, 'OwnerUin': 0, 'PYInitial': '', 'PYQuanPin': '', 'RemarkPYInitial': '', 'RemarkPYQuanPin': '', 'StarFriend': 0, 'AppAccountFlag': 0, 'Statues': 0, 'AttrStatus': 0, 'Province': '', 'City': '', 'Alias': '', 'SnsFlag': 0, 'UniFriend': 0, 'DisplayName': '', 'ChatRoomId': 0, 'KeyWord': '', 'EncryChatRoomId': '', 'IsOwner': 0, 'IsAdmin': None, 'Self': <ChatroomMember: {'MemberList': <ContactList: []>, 'Uin': 0, 'UserName': '@abbacb71fb905eb493c03455ce39ee8906aa1038deb95a70405a8571602b2584', 'NickName': 'kongc', 'AttrStatus': 33558885, 'PYInitial': '', 'PYQuanPin': '', 'RemarkPYInitial': '', 'RemarkPYQuanPin': '', 'MemberStatus': 0, 'DisplayName': '左泽骏_万科数据组', 'KeyWord': ''}>, 'HeadImgUpdateFlag': 1, 'ContactType': 0, 'ChatRoomOwner': '@d9ccd59cb63dba7ea5dc9219bb486634e0704051d4531e8d09287d01529d237f'}>, <Chatroom: {'MemberList': <ContactList: [<ChatroomMember: {'MemberList': <ContactList: []>, 'Uin': 0, 'UserName': '@d9ccd59cb63dba7ea5dc9219bb486634e0704051d4531e8d09287d01529d237f', 'NickName': '程曦', 'AttrStatus': 103423, 'PYInitial': '', 'PYQuanPin': '', 'RemarkPYInitial': '', 'RemarkPYQuanPin': '', 'MemberStatus': 0, 'DisplayName': '', 'KeyWord': ''}>, <ChatroomMember: {'MemberList': <ContactList: []>, 'Uin': 0, 'UserName': '@81be279ea3d580103b8d88de4ae80ab82c7dd44b187b3c18e25124e88a64026d', 'NickName': '佘乐乐', 'AttrStatus': 102453, 'PYInitial': '', 'PYQuanPin': '', 'RemarkPYInitial': '', 'RemarkPYQuanPin': '', 'MemberStatus': 0, 'DisplayName': '', 'KeyWord': ''}>, <ChatroomMember: {'MemberList': <ContactList: []>, 'Uin': 0, 'UserName': '@20e728fc83be70dc08abcbb02496e2e9', 'NickName': '妙妙', 'AttrStatus': 102503, 'PYInitial': '', 'PYQuanPin': '', 'RemarkPYInitial': '', 'RemarkPYQuanPin': '', 'MemberStatus': 0, 'DisplayName': '', 'KeyWord': 'rai'}>, <ChatroomMember: {'MemberList': <ContactList: []>, 'Uin': 0, 'UserName': '@abbacb71fb905eb493c03455ce39ee8906aa1038deb95a70405a8571602b2584', 'NickName': 'kongc', 'AttrStatus': 33558885, 'PYInitial': '', 'PYQuanPin': '', 'RemarkPYInitial': '', 'RemarkPYQuanPin': '', 'MemberStatus': 0, 'DisplayName': '左泽骏', 'KeyWord': ''}>, <ChatroomMember: {'MemberList': <ContactList: []>, 'Uin': 0, 'UserName': '@0f636434960e9307d92f58a254d12ef48837ef6963b8772b32f2724a73747b69', 'NickName': '静', 'AttrStatus': 4197, 'PYInitial': '', 'PYQuanPin': '', 'RemarkPYInitial': '', 'RemarkPYQuanPin': '', 'MemberStatus': 0, 'DisplayName': '王静', 'KeyWord': ''}>, <ChatroomMember: {'MemberList': <ContactList: []>, 'Uin': 0, 'UserName': '@49bc0a87114e72c9ffa9efac8ba8190dd090adfd9d839e3e9807b7dc3ffc2249', 'NickName': '桜', 'AttrStatus': 135549, 'PYInitial': '', 'PYQuanPin': '', 'RemarkPYInitial': '', 'RemarkPYQuanPin': '', 'MemberStatus': 0, 'DisplayName': '', 'KeyWord': ''}>]>, 'Uin': 0, 'UserName': '@@2a341f89dd6d8cab19bbf1f5aa93a494e37cc0b05894c6565cada4871c086afd', 'NickName': '数面', 'HeadImgUrl': '/cgi-bin/mmwebwx-bin/webwxgetheadimg?seq=684989584&username=@@2a341f89dd6d8cab19bbf1f5aa93a494e37cc0b05894c6565cada4871c086afd&skey=', 'ContactFlag': 2, 'MemberCount': 6, 'RemarkName': '', 'HideInputBarFlag': 0, 'Sex': 0, 'Signature': '', 'VerifyFlag': 0, 'OwnerUin': 0, 'PYInitial': 'SM', 'PYQuanPin': 'shumian', 'RemarkPYInitial': '', 'RemarkPYQuanPin': '', 'StarFriend': 0, 'AppAccountFlag': 0, 'Statues': 1, 'AttrStatus': 0, 'Province': '', 'City': '', 'Alias': '', 'SnsFlag': 0, 'UniFriend': 0, 'DisplayName': '', 'ChatRoomId': 0, 'KeyWord': '', 'EncryChatRoomId': '@ffa2d6e368a58277502a826a2bfa2366', 'IsOwner': 0, 'IsAdmin': None, 'Self': <ChatroomMember: {'MemberList': <ContactList: []>, 'Uin': 0, 'UserName': '@abbacb71fb905eb493c03455ce39ee8906aa1038deb95a70405a8571602b2584', 'NickName': 'kongc', 'AttrStatus': 33558885, 'PYInitial': '', 'PYQuanPin': '', 'RemarkPYInitial': '', 'RemarkPYQuanPin': '', 'MemberStatus': 0, 'DisplayName': '左泽骏', 'KeyWord': ''}>}>, <Chatroom: {'MemberList': <ContactList: []>, 'Uin': 0, 'UserName': '@@2c9d1e6620efe1efbbf6278f038176296a49c2f29f8efb0f16627c9d9357345f', 'NickName': '数据通报(认购…未回款）', 'HeadImgUrl': '/cgi-bin/mmwebwx-bin/webwxgetheadimg?seq=0&username=@@2c9d1e6620efe1efbbf6278f038176296a49c2f29f8efb0f16627c9d9357345f&skey=@crypt_a61b4fe9_d922bd73489e3fb88b7fbcde0e8a14e5', 'ContactFlag': 0, 'MemberCount': 11, 'RemarkName': '', 'HideInputBarFlag': 0, 'Sex': 0, 'Signature': '', 'VerifyFlag': 0, 'OwnerUin': 0, 'PYInitial': '', 'PYQuanPin': '', 'RemarkPYInitial': '', 'RemarkPYQuanPin': '', 'StarFriend': 0, 'AppAccountFlag': 0, 'Statues': 1, 'AttrStatus': 0, 'Province': '', 'City': '', 'Alias': '', 'SnsFlag': 0, 'UniFriend': 0, 'DisplayName': '', 'ChatRoomId': 0, 'KeyWord': '', 'EncryChatRoomId': '', 'IsOwner': 0, 'IsAdmin': None, 'Self': <User: {'MemberList': <ContactList: []>, 'UserName': '@abbacb71fb905eb493c03455ce39ee8906aa1038deb95a70405a8571602b2584', 'City': '', 'DisplayName': '', 'PYQuanPin': '', 'RemarkPYInitial': '', 'Province': '', 'KeyWord': '', 'RemarkName': '', 'PYInitial': '', 'EncryChatRoomId': '', 'Alias': '', 'Signature': '病来如山倒，病去如抽丝。久病是否良医？等...', 'NickName': 'kongc', 'RemarkPYQuanPin': '', 'HeadImgUrl': '/cgi-bin/mmwebwx-bin/webwxgeticon?seq=1351837660&username=@abbacb71fb905eb493c03455ce39ee8906aa1038deb95a70405a8571602b2584&skey=@crypt_a61b4fe9_d922bd73489e3fb88b7fbcde0e8a14e5', 'UniFriend': 0, 'Sex': 1, 'AppAccountFlag': 0, 'VerifyFlag': 0, 'ChatRoomId': 0, 'HideInputBarFlag': 0, 'AttrStatus': 0, 'SnsFlag': 1, 'MemberCount': 0, 'OwnerUin': 0, 'ContactFlag': 0, 'Uin': 1668414906, 'StarFriend': 0, 'Statues': 0, 'WebWxPluginSwitch': 0, 'HeadImgFlag': 1}>}>, <Chatroom: {'MemberList': <ContactList: []>, 'Uin': 0, 'UserName': '@@b21ec1633e0fa527a6a8492bdcc5cb581949a7120034a8a9cb1856275f0d618d', 'NickName': '汇总群', 'HeadImgUrl': '/cgi-bin/mmwebwx-bin/webwxgetheadimg?seq=0&username=@@b21ec1633e0fa527a6a8492bdcc5cb581949a7120034a8a9cb1856275f0d618d&skey=@crypt_a61b4fe9_d922bd73489e3fb88b7fbcde0e8a14e5', 'ContactFlag': 0, 'MemberCount': 9, 'RemarkName': '', 'HideInputBarFlag': 0, 'Sex': 0, 'Signature': '', 'VerifyFlag': 0, 'OwnerUin': 0, 'PYInitial': '', 'PYQuanPin': '', 'RemarkPYInitial': '', 'RemarkPYQuanPin': '', 'StarFriend': 0, 'AppAccountFlag': 0, 'Statues': 1, 'AttrStatus': 0, 'Province': '', 'City': '', 'Alias': '', 'SnsFlag': 0, 'UniFriend': 0, 'DisplayName': '', 'ChatRoomId': 0, 'KeyWord': '', 'EncryChatRoomId': '', 'IsOwner': 0, 'IsAdmin': None, 'Self': <User: {'MemberList': <ContactList: []>, 'UserName': '@abbacb71fb905eb493c03455ce39ee8906aa1038deb95a70405a8571602b2584', 'City': '', 'DisplayName': '', 'PYQuanPin': '', 'RemarkPYInitial': '', 'Province': '', 'KeyWord': '', 'RemarkName': '', 'PYInitial': '', 'EncryChatRoomId': '', 'Alias': '', 'Signature': '病来如山倒，病去如抽丝。久病是否良医？等...', 'NickName': 'kongc', 'RemarkPYQuanPin': '', 'HeadImgUrl': '/cgi-bin/mmwebwx-bin/webwxgeticon?seq=1351837660&username=@abbacb71fb905eb493c03455ce39ee8906aa1038deb95a70405a8571602b2584&skey=@crypt_a61b4fe9_d922bd73489e3fb88b7fbcde0e8a14e5', 'UniFriend': 0, 'Sex': 1, 'AppAccountFlag': 0, 'VerifyFlag': 0, 'ChatRoomId': 0, 'HideInputBarFlag': 0, 'AttrStatus': 0, 'SnsFlag': 1, 'MemberCount': 0, 'OwnerUin': 0, 'ContactFlag': 0, 'Uin': 1668414906, 'StarFriend': 0, 'Statues': 0, 'WebWxPluginSwitch': 0, 'HeadImgFlag': 1}>}>, <Chatroom: {'MemberList': <ContactList: []>, 'Uin': 0, 'UserName': '@abbacb71fb905eb493c03455ce39ee8906aa1038deb95a70405a8571602b2584', 'NickName': '', 'HeadImgUrl': '', 'ContactFlag': 0, 'MemberCount': 0, 'RemarkName': '', 'HideInputBarFlag': 0, 'Sex': 0, 'Signature': '', 'VerifyFlag': 0, 'OwnerUin': 0, 'PYInitial': '', 'PYQuanPin': '', 'RemarkPYInitial': '', 'RemarkPYQuanPin': '', 'StarFriend': 0, 'AppAccountFlag': 0, 'Statues': 0, 'AttrStatus': 0, 'Province': '', 'City': '', 'Alias': '', 'SnsFlag': 0, 'UniFriend': 0, 'DisplayName': '', 'ChatRoomId': 0, 'KeyWord': '', 'EncryChatRoomId': '', 'IsOwner': 0, 'IsAdmin': None, 'Self': <User: {'MemberList': <ContactList: []>, 'UserName': '@abbacb71fb905eb493c03455ce39ee8906aa1038deb95a70405a8571602b2584', 'City': '', 'DisplayName': '', 'PYQuanPin': '', 'RemarkPYInitial': '', 'Province': '', 'KeyWord': '', 'RemarkName': '', 'PYInitial': '', 'EncryChatRoomId': '', 'Alias': '', 'Signature': '病来如山倒，病去如抽丝。久病是否良医？等...', 'NickName': 'kongc', 'RemarkPYQuanPin': '', 'HeadImgUrl': '/cgi-bin/mmwebwx-bin/webwxgeticon?seq=1351837660&username=@abbacb71fb905eb493c03455ce39ee8906aa1038deb95a70405a8571602b2584&skey=@crypt_a61b4fe9_d922bd73489e3fb88b7fbcde0e8a14e5', 'UniFriend': 0, 'Sex': 1, 'AppAccountFlag': 0, 'VerifyFlag': 0, 'ChatRoomId': 0, 'HideInputBarFlag': 0, 'AttrStatus': 0, 'SnsFlag': 1, 'MemberCount': 0, 'OwnerUin': 0, 'ContactFlag': 0, 'Uin': 1668414906, 'StarFriend': 0, 'Statues': 0, 'WebWxPluginSwitch': 0, 'HeadImgFlag': 1}>}>]>"
      ]
     },
     "execution_count": 58,
     "metadata": {},
     "output_type": "execute_result"
    }
   ],
   "source": [
    "contact = itchat.get_contact()\n",
    "contact"
   ]
  },
  {
   "cell_type": "code",
   "execution_count": 14,
   "metadata": {},
   "outputs": [],
   "source": [
    "chatrooms = itchat.get_chatrooms()"
   ]
  },
  {
   "cell_type": "code",
   "execution_count": 10,
   "metadata": {},
   "outputs": [],
   "source": []
  }
 ],
 "metadata": {
  "kernelspec": {
   "display_name": "Python 3",
   "language": "python",
   "name": "python3"
  },
  "language_info": {
   "codemirror_mode": {
    "name": "ipython",
    "version": 3
   },
   "file_extension": ".py",
   "mimetype": "text/x-python",
   "name": "python",
   "nbconvert_exporter": "python",
   "pygments_lexer": "ipython3",
   "version": "3.6.5"
  }
 },
 "nbformat": 4,
 "nbformat_minor": 2
}
